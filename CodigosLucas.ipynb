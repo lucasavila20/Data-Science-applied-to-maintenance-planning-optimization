{
  "nbformat": 4,
  "nbformat_minor": 0,
  "metadata": {
    "colab": {
      "provenance": []
    },
    "kernelspec": {
      "name": "python3",
      "display_name": "Python 3"
    },
    "language_info": {
      "name": "python"
    }
  },
  "cells": [
    {
      "cell_type": "markdown",
      "source": [
        "# Leitura dos dados"
      ],
      "metadata": {
        "id": "oSl620jK15O9"
      }
    },
    {
      "cell_type": "code",
      "source": [
        "# carregando algumas bibliotecas\n",
        "import pandas as pd\n",
        "import numpy as np\n",
        "import matplotlib.pyplot as plt\n",
        "import seaborn as sns\n",
        "from google.colab import drive\n",
        "drive.mount('/content/drive')\n",
        "\n",
        "# lendo os dados de teste\n",
        "file_path = '/content/drive/MyDrive/air_system_previous_years.csv'\n",
        "X = pd.read_csv(file_path, na_values='na')\n",
        "\n",
        "# Verificando se todas as colunas que não a class são numéricas\n",
        "X.select_dtypes(include=['number']).shape # as 170 outras colunas são de fato numéricas\n",
        "\n",
        "from sklearn.preprocessing import LabelEncoder\n",
        "X['class'] = X['class'].astype('category')\n",
        "label_encoder = LabelEncoder()\n",
        "X['class'] = label_encoder.fit_transform(X['class'])"
      ],
      "metadata": {
        "colab": {
          "base_uri": "https://localhost:8080/"
        },
        "id": "UzMDwYeSRAWY",
        "outputId": "908a58c6-88d4-43d0-fb92-12741efa52e0"
      },
      "execution_count": 132,
      "outputs": [
        {
          "output_type": "stream",
          "name": "stdout",
          "text": [
            "Drive already mounted at /content/drive; to attempt to forcibly remount, call drive.mount(\"/content/drive\", force_remount=True).\n"
          ]
        }
      ]
    },
    {
      "cell_type": "markdown",
      "source": [
        "## Seleção de variáveis\n",
        "\n",
        "Vamos selecionar as variáveis de duas formas. Primeiro, vamos remover aquelas em que o valor mais frequente aparece muito mais que o segundo valor mais frequente, e que, ao mesmo tempo, tenha uma quantidade de valores únicos dividida pela quantidade total de valores muito baixa. Os valores definidos aqui foram os mesmos que estão implementados por default na função nearZeroVar do pacote Caret implementado por Max Kuhn no R, isto é, razão entre os valores frequentes deve maior ou igual a 19, e porcentagem de valores únicos menor ou igual que 10% para a variável ser removida."
      ],
      "metadata": {
        "id": "tc4DignJQxkw"
      }
    },
    {
      "cell_type": "code",
      "source": [
        "results = pd.DataFrame(columns=['Column', 'Unique_Ratio', 'Top1_Top2_Ratio'])\n",
        "\n",
        "def calculate_metrics(column):\n",
        "    col_no_na = column.dropna()\n",
        "    total_elements = len(col_no_na)\n",
        "\n",
        "    if total_elements == 0:\n",
        "        return (0, 0)\n",
        "\n",
        "    unique_ratio = col_no_na.nunique() / total_elements\n",
        "    value_counts = col_no_na.value_counts()\n",
        "\n",
        "    if len(value_counts) < 2:\n",
        "        top1_top2_ratio = np.nan # importante remover esses casos também\n",
        "    else:\n",
        "        # razão entre o valor mais frequente e o segundo mais frequente\n",
        "        top1_top2_ratio = value_counts.iloc[0] / value_counts.iloc[1]\n",
        "\n",
        "    return (unique_ratio, top1_top2_ratio)\n",
        "\n",
        "for col in X.columns[1:]: # sem usar a coluna de classe\n",
        "    unique_ratio, top1_top2_ratio = calculate_metrics(X[col])\n",
        "    result = pd.DataFrame({\n",
        "        'Column': [col],\n",
        "        'Unique_Ratio': [unique_ratio],\n",
        "        'Top1_Top2_Ratio': [top1_top2_ratio]\n",
        "    })\n",
        "    results = pd.concat([results, result], ignore_index=True)"
      ],
      "metadata": {
        "id": "7ZYUjRxwHhH4"
      },
      "execution_count": 133,
      "outputs": []
    },
    {
      "cell_type": "code",
      "source": [
        "filtered_results = results[(results['Unique_Ratio'] <= 0.1005) & ((results['Top1_Top2_Ratio'] >= 19) | results['Top1_Top2_Ratio'].isna())]\n",
        "filtered_results.shape"
      ],
      "metadata": {
        "colab": {
          "base_uri": "https://localhost:8080/"
        },
        "id": "Kt4UtjqJKBwA",
        "outputId": "44e5af2e-5ad4-43f6-a57f-7bdb30ae8b79"
      },
      "execution_count": 134,
      "outputs": [
        {
          "output_type": "execute_result",
          "data": {
            "text/plain": [
              "(44, 3)"
            ]
          },
          "metadata": {},
          "execution_count": 134
        }
      ]
    },
    {
      "cell_type": "markdown",
      "source": [
        "Teremos estão 44 variáveis removidas"
      ],
      "metadata": {
        "id": "VJWSMczoSNhH"
      }
    },
    {
      "cell_type": "code",
      "source": [
        "X=X.drop(columns = filtered_results['Column'])"
      ],
      "metadata": {
        "id": "q512FeQVQrNH"
      },
      "execution_count": 135,
      "outputs": []
    },
    {
      "cell_type": "code",
      "source": [
        "X.shape"
      ],
      "metadata": {
        "colab": {
          "base_uri": "https://localhost:8080/"
        },
        "id": "KcXyuiEsThCI",
        "outputId": "56318b2b-81f6-4b7c-b3a6-40b4cf1403a7"
      },
      "execution_count": 136,
      "outputs": [
        {
          "output_type": "execute_result",
          "data": {
            "text/plain": [
              "(60000, 127)"
            ]
          },
          "metadata": {},
          "execution_count": 136
        }
      ]
    },
    {
      "cell_type": "markdown",
      "source": [
        "Agora vamos remover as variáveis que tenham muitos valores NA. Nesse caso, uma taxa de valores NA maior que 10% já serão removidas."
      ],
      "metadata": {
        "id": "xGBiuyraS9PY"
      }
    },
    {
      "cell_type": "code",
      "source": [
        "threshold = len(X)*0.9\n",
        "X.dropna(axis=1, thresh=threshold).shape\n",
        "X = X.dropna(axis=1, thresh=threshold)"
      ],
      "metadata": {
        "id": "LCw9yIsRS8mg"
      },
      "execution_count": 137,
      "outputs": []
    },
    {
      "cell_type": "code",
      "source": [
        "X.shape"
      ],
      "metadata": {
        "colab": {
          "base_uri": "https://localhost:8080/"
        },
        "id": "g2h4uYTrWgcR",
        "outputId": "f3e5df55-0a93-4849-b752-f5333e800f90"
      },
      "execution_count": 138,
      "outputs": [
        {
          "output_type": "execute_result",
          "data": {
            "text/plain": [
              "(60000, 105)"
            ]
          },
          "metadata": {},
          "execution_count": 138
        }
      ]
    },
    {
      "cell_type": "markdown",
      "source": [
        "Ficamos então com 105 variáveis, podemos partir agora para a imputação dos dados\n",
        "\n",
        "## Imputação dos dados\n",
        "\n",
        "Sem informações a respeito do significado das variáveis é difícil fazer imputação dos dados. Assim, uma primeira tentativa poderia ser a de remover as observações que possuirem pelo menos uma variável sem informação, mas fazendo assim verificamos que os grupos, que ja eram desbalanceados, ficaram mais desbalanceados ainda. Antes, a proporção de negativos para cada positivo era de 59, e agora passou a ser de 132.78. Como quase todas as colunas apresentam valor NA, teremos que fazer imputação, caso contrário teriamos que utilizar apenas métodos que suportem valores faltantes.\n",
        "\n",
        "Como os dados estão relacionados com o grupo a que pertencem, podemos utilizar alguns métodos. Por exemplo, poderiamos fazer uma média da variável para cada grupo e colocar esse valor nas observações faltantes. Nesse caso, como a natureza das variáveis é desconhecida, irei utilizar KNN para imputação, assim, segue que:"
      ],
      "metadata": {
        "id": "19vvFbjJaVup"
      }
    },
    {
      "cell_type": "code",
      "source": [
        "from sklearn.impute import KNNImputer\n",
        "imputer = KNNImputer(n_neighbors=10)\n",
        "completos = imputer.fit_transform(X)\n",
        "df_completos = pd.DataFrame(completos, columns=X.columns, index=X.index)"
      ],
      "metadata": {
        "id": "eANIZv2yT5kf"
      },
      "execution_count": 142,
      "outputs": []
    },
    {
      "cell_type": "code",
      "source": [
        "X_train = df_completos.iloc[:, 1:]\n",
        "y_train = df_completos.iloc[:, 0]"
      ],
      "metadata": {
        "id": "keK4wV9re49Q"
      },
      "execution_count": 143,
      "outputs": []
    },
    {
      "cell_type": "markdown",
      "source": [
        "# Proposta de métricas a serem utilizadas"
      ],
      "metadata": {
        "id": "uhqvj0sq2BrW"
      }
    },
    {
      "cell_type": "markdown",
      "source": [
        "## Métricas técnicas\n",
        "\n",
        "Conforme descrito no problema, se adotarmos como hipótese nula que o ônibus não precisa de manutenção, o custo relacionado ao erro do tipo 1, ou seja, dizer que o ônibus está com defeito quando na realidade ele não está, é de \\$10. Por outro lado, o custo do erro do tipo 2, isso é, considerar que o ônibus está bom quando na realidade precisa de reparo, é de \\$500. Dessa forma, uma métrica que devemos utilizar para medir a qualidade do modelo é a sensibilidade, já que, como é impossível acertar em todos os casos, é preferível mandar para conserto um ônibus em perfeito estado, do que deixar circulando um ônibus que precisa de reparo. Nesse contexto, faz sentido utilizarmos também o coeficiente de Kappa e a e área sob a curva ROC para um bom trade-off entre sensitividade e sensibilidade.\n",
        "\n",
        "## Métricas de negócio\n",
        "\n",
        "Algumas business metrics poderiam ser\n",
        "\n",
        "- Taxa de caminhões em reparo, medida como o total de caminhões levados para reparo dividido pelo total de caminhões que apresentaram defeito. Importante para vermos se estão sendo mandados muitos caminhões além do necessário.\n",
        "\n",
        "- Taxa de falha, definida como a quantidade total de caminhões corretamente classificados como defeituosos dividido pela quantidade total de caminhões defeituosos. Uma boa métrica para se saber o quanto estamos cometende de erro do tipo 2.\n",
        "\n",
        "- Eficiência do dinheiro, calculada como a razão entre o mínimo de dinheiro que precisava ser gasto e o dinheiro realmente gasto. Como o nome diz, é uma boa métrica para sabermos o qual eficaz foi nosso gasto.\n",
        "\n",
        "Todas métricas estão interligadas, mas explicam fenômenos diferentes. Elas podem ser usadas conjuntamente para definir quando o modelo, depois de implantado, deve ser treinado novamente.\n",
        "\n"
      ],
      "metadata": {
        "id": "qMN_c4_V2CPO"
      }
    },
    {
      "cell_type": "markdown",
      "source": [
        "# Implementando modelos\n",
        "\n",
        "Escolhi 3 modelos para testar, pensando sempre em desempenho e alguma interpretabilidade. Assim, usarei Random Forest, Regressão logística e XGBoost"
      ],
      "metadata": {
        "id": "pdE4d3jjgH3Y"
      }
    },
    {
      "cell_type": "markdown",
      "source": [
        "## Random Forest"
      ],
      "metadata": {
        "id": "GQT90O1bgKmg"
      }
    },
    {
      "cell_type": "code",
      "source": [
        "from sklearn.ensemble import RandomForestClassifier\n",
        "rf_model = RandomForestClassifier(n_estimators=100, random_state=42)\n",
        "rf_model.fit(X_train, y_train)"
      ],
      "metadata": {
        "colab": {
          "base_uri": "https://localhost:8080/",
          "height": 75
        },
        "id": "jB8ZaxyBgJzJ",
        "outputId": "1d59fc14-cccd-4477-bb2e-8ecc5c013a10"
      },
      "execution_count": 145,
      "outputs": [
        {
          "output_type": "execute_result",
          "data": {
            "text/plain": [
              "RandomForestClassifier(random_state=42)"
            ],
            "text/html": [
              "<style>#sk-container-id-1 {color: black;background-color: white;}#sk-container-id-1 pre{padding: 0;}#sk-container-id-1 div.sk-toggleable {background-color: white;}#sk-container-id-1 label.sk-toggleable__label {cursor: pointer;display: block;width: 100%;margin-bottom: 0;padding: 0.3em;box-sizing: border-box;text-align: center;}#sk-container-id-1 label.sk-toggleable__label-arrow:before {content: \"▸\";float: left;margin-right: 0.25em;color: #696969;}#sk-container-id-1 label.sk-toggleable__label-arrow:hover:before {color: black;}#sk-container-id-1 div.sk-estimator:hover label.sk-toggleable__label-arrow:before {color: black;}#sk-container-id-1 div.sk-toggleable__content {max-height: 0;max-width: 0;overflow: hidden;text-align: left;background-color: #f0f8ff;}#sk-container-id-1 div.sk-toggleable__content pre {margin: 0.2em;color: black;border-radius: 0.25em;background-color: #f0f8ff;}#sk-container-id-1 input.sk-toggleable__control:checked~div.sk-toggleable__content {max-height: 200px;max-width: 100%;overflow: auto;}#sk-container-id-1 input.sk-toggleable__control:checked~label.sk-toggleable__label-arrow:before {content: \"▾\";}#sk-container-id-1 div.sk-estimator input.sk-toggleable__control:checked~label.sk-toggleable__label {background-color: #d4ebff;}#sk-container-id-1 div.sk-label input.sk-toggleable__control:checked~label.sk-toggleable__label {background-color: #d4ebff;}#sk-container-id-1 input.sk-hidden--visually {border: 0;clip: rect(1px 1px 1px 1px);clip: rect(1px, 1px, 1px, 1px);height: 1px;margin: -1px;overflow: hidden;padding: 0;position: absolute;width: 1px;}#sk-container-id-1 div.sk-estimator {font-family: monospace;background-color: #f0f8ff;border: 1px dotted black;border-radius: 0.25em;box-sizing: border-box;margin-bottom: 0.5em;}#sk-container-id-1 div.sk-estimator:hover {background-color: #d4ebff;}#sk-container-id-1 div.sk-parallel-item::after {content: \"\";width: 100%;border-bottom: 1px solid gray;flex-grow: 1;}#sk-container-id-1 div.sk-label:hover label.sk-toggleable__label {background-color: #d4ebff;}#sk-container-id-1 div.sk-serial::before {content: \"\";position: absolute;border-left: 1px solid gray;box-sizing: border-box;top: 0;bottom: 0;left: 50%;z-index: 0;}#sk-container-id-1 div.sk-serial {display: flex;flex-direction: column;align-items: center;background-color: white;padding-right: 0.2em;padding-left: 0.2em;position: relative;}#sk-container-id-1 div.sk-item {position: relative;z-index: 1;}#sk-container-id-1 div.sk-parallel {display: flex;align-items: stretch;justify-content: center;background-color: white;position: relative;}#sk-container-id-1 div.sk-item::before, #sk-container-id-1 div.sk-parallel-item::before {content: \"\";position: absolute;border-left: 1px solid gray;box-sizing: border-box;top: 0;bottom: 0;left: 50%;z-index: -1;}#sk-container-id-1 div.sk-parallel-item {display: flex;flex-direction: column;z-index: 1;position: relative;background-color: white;}#sk-container-id-1 div.sk-parallel-item:first-child::after {align-self: flex-end;width: 50%;}#sk-container-id-1 div.sk-parallel-item:last-child::after {align-self: flex-start;width: 50%;}#sk-container-id-1 div.sk-parallel-item:only-child::after {width: 0;}#sk-container-id-1 div.sk-dashed-wrapped {border: 1px dashed gray;margin: 0 0.4em 0.5em 0.4em;box-sizing: border-box;padding-bottom: 0.4em;background-color: white;}#sk-container-id-1 div.sk-label label {font-family: monospace;font-weight: bold;display: inline-block;line-height: 1.2em;}#sk-container-id-1 div.sk-label-container {text-align: center;}#sk-container-id-1 div.sk-container {/* jupyter's `normalize.less` sets `[hidden] { display: none; }` but bootstrap.min.css set `[hidden] { display: none !important; }` so we also need the `!important` here to be able to override the default hidden behavior on the sphinx rendered scikit-learn.org. See: https://github.com/scikit-learn/scikit-learn/issues/21755 */display: inline-block !important;position: relative;}#sk-container-id-1 div.sk-text-repr-fallback {display: none;}</style><div id=\"sk-container-id-1\" class=\"sk-top-container\"><div class=\"sk-text-repr-fallback\"><pre>RandomForestClassifier(random_state=42)</pre><b>In a Jupyter environment, please rerun this cell to show the HTML representation or trust the notebook. <br />On GitHub, the HTML representation is unable to render, please try loading this page with nbviewer.org.</b></div><div class=\"sk-container\" hidden><div class=\"sk-item\"><div class=\"sk-estimator sk-toggleable\"><input class=\"sk-toggleable__control sk-hidden--visually\" id=\"sk-estimator-id-1\" type=\"checkbox\" checked><label for=\"sk-estimator-id-1\" class=\"sk-toggleable__label sk-toggleable__label-arrow\">RandomForestClassifier</label><div class=\"sk-toggleable__content\"><pre>RandomForestClassifier(random_state=42)</pre></div></div></div></div></div>"
            ]
          },
          "metadata": {},
          "execution_count": 145
        }
      ]
    },
    {
      "cell_type": "markdown",
      "source": [
        "Aqui a importância das variáveis é com base no impacto da variável na impureza de um nó, ou seja, com base no Gini."
      ],
      "metadata": {
        "id": "UENdgt_MgTwi"
      }
    },
    {
      "cell_type": "code",
      "source": [
        "importancias = rf_model.feature_importances_\n",
        "importancias_df = pd.DataFrame(importancias, index=X_train.columns, columns=['Importancia'])\n",
        "importancias_df.sort_values(by='Importancia', ascending=False, inplace=True)\n",
        "print(importancias_df.head(6))"
      ],
      "metadata": {
        "colab": {
          "base_uri": "https://localhost:8080/"
        },
        "id": "UeewMxczgPeZ",
        "outputId": "5abc1f46-48a0-4b26-cb8b-7d3290d2bd7e"
      },
      "execution_count": 146,
      "outputs": [
        {
          "output_type": "stream",
          "name": "stdout",
          "text": [
            "        Importancia\n",
            "bj_000     0.054895\n",
            "am_0       0.034851\n",
            "al_000     0.033133\n",
            "ag_003     0.032967\n",
            "aq_000     0.031065\n",
            "ci_000     0.030434\n"
          ]
        }
      ]
    },
    {
      "cell_type": "markdown",
      "source": [
        "## Regressão Logística\n"
      ],
      "metadata": {
        "id": "9E9aZ1MPgwa5"
      }
    },
    {
      "cell_type": "code",
      "source": [
        "import statsmodels.api as sm\n",
        "X_train_lr = sm.add_constant(X_train)\n",
        "logit_model = sm.Logit(y_train, X_train_lr)\n",
        "result = logit_model.fit()"
      ],
      "metadata": {
        "id": "8iomLrzbhHji"
      },
      "execution_count": null,
      "outputs": []
    },
    {
      "cell_type": "code",
      "source": [
        "p_valores = result.pvalues\n",
        "p_valors_df = pd.DataFrame({'Variavel': X_train_lr.columns, 'Valor_p': p_valores})\n",
        "p_valors_df.sort_values(by='Valor_p').head(6)"
      ],
      "metadata": {
        "colab": {
          "base_uri": "https://localhost:8080/",
          "height": 238
        },
        "id": "4gzDjhuthO8i",
        "outputId": "9128d41d-b5ee-4dc8-de86-ac2545eaaa07"
      },
      "execution_count": 148,
      "outputs": [
        {
          "output_type": "execute_result",
          "data": {
            "text/plain": [
              "       Variavel       Valor_p\n",
              "const     const  0.000000e+00\n",
              "bs_000   bs_000  7.856159e-39\n",
              "cb_000   cb_000  9.428761e-17\n",
              "ag_003   ag_003  5.030374e-09\n",
              "eb_000   eb_000  6.301463e-09\n",
              "cj_000   cj_000  6.377352e-09"
            ],
            "text/html": [
              "\n",
              "  <div id=\"df-11e1e655-e2b9-4e00-a95f-2c52e557d37b\" class=\"colab-df-container\">\n",
              "    <div>\n",
              "<style scoped>\n",
              "    .dataframe tbody tr th:only-of-type {\n",
              "        vertical-align: middle;\n",
              "    }\n",
              "\n",
              "    .dataframe tbody tr th {\n",
              "        vertical-align: top;\n",
              "    }\n",
              "\n",
              "    .dataframe thead th {\n",
              "        text-align: right;\n",
              "    }\n",
              "</style>\n",
              "<table border=\"1\" class=\"dataframe\">\n",
              "  <thead>\n",
              "    <tr style=\"text-align: right;\">\n",
              "      <th></th>\n",
              "      <th>Variavel</th>\n",
              "      <th>Valor_p</th>\n",
              "    </tr>\n",
              "  </thead>\n",
              "  <tbody>\n",
              "    <tr>\n",
              "      <th>const</th>\n",
              "      <td>const</td>\n",
              "      <td>0.000000e+00</td>\n",
              "    </tr>\n",
              "    <tr>\n",
              "      <th>bs_000</th>\n",
              "      <td>bs_000</td>\n",
              "      <td>7.856159e-39</td>\n",
              "    </tr>\n",
              "    <tr>\n",
              "      <th>cb_000</th>\n",
              "      <td>cb_000</td>\n",
              "      <td>9.428761e-17</td>\n",
              "    </tr>\n",
              "    <tr>\n",
              "      <th>ag_003</th>\n",
              "      <td>ag_003</td>\n",
              "      <td>5.030374e-09</td>\n",
              "    </tr>\n",
              "    <tr>\n",
              "      <th>eb_000</th>\n",
              "      <td>eb_000</td>\n",
              "      <td>6.301463e-09</td>\n",
              "    </tr>\n",
              "    <tr>\n",
              "      <th>cj_000</th>\n",
              "      <td>cj_000</td>\n",
              "      <td>6.377352e-09</td>\n",
              "    </tr>\n",
              "  </tbody>\n",
              "</table>\n",
              "</div>\n",
              "    <div class=\"colab-df-buttons\">\n",
              "\n",
              "  <div class=\"colab-df-container\">\n",
              "    <button class=\"colab-df-convert\" onclick=\"convertToInteractive('df-11e1e655-e2b9-4e00-a95f-2c52e557d37b')\"\n",
              "            title=\"Convert this dataframe to an interactive table.\"\n",
              "            style=\"display:none;\">\n",
              "\n",
              "  <svg xmlns=\"http://www.w3.org/2000/svg\" height=\"24px\" viewBox=\"0 -960 960 960\">\n",
              "    <path d=\"M120-120v-720h720v720H120Zm60-500h600v-160H180v160Zm220 220h160v-160H400v160Zm0 220h160v-160H400v160ZM180-400h160v-160H180v160Zm440 0h160v-160H620v160ZM180-180h160v-160H180v160Zm440 0h160v-160H620v160Z\"/>\n",
              "  </svg>\n",
              "    </button>\n",
              "\n",
              "  <style>\n",
              "    .colab-df-container {\n",
              "      display:flex;\n",
              "      gap: 12px;\n",
              "    }\n",
              "\n",
              "    .colab-df-convert {\n",
              "      background-color: #E8F0FE;\n",
              "      border: none;\n",
              "      border-radius: 50%;\n",
              "      cursor: pointer;\n",
              "      display: none;\n",
              "      fill: #1967D2;\n",
              "      height: 32px;\n",
              "      padding: 0 0 0 0;\n",
              "      width: 32px;\n",
              "    }\n",
              "\n",
              "    .colab-df-convert:hover {\n",
              "      background-color: #E2EBFA;\n",
              "      box-shadow: 0px 1px 2px rgba(60, 64, 67, 0.3), 0px 1px 3px 1px rgba(60, 64, 67, 0.15);\n",
              "      fill: #174EA6;\n",
              "    }\n",
              "\n",
              "    .colab-df-buttons div {\n",
              "      margin-bottom: 4px;\n",
              "    }\n",
              "\n",
              "    [theme=dark] .colab-df-convert {\n",
              "      background-color: #3B4455;\n",
              "      fill: #D2E3FC;\n",
              "    }\n",
              "\n",
              "    [theme=dark] .colab-df-convert:hover {\n",
              "      background-color: #434B5C;\n",
              "      box-shadow: 0px 1px 3px 1px rgba(0, 0, 0, 0.15);\n",
              "      filter: drop-shadow(0px 1px 2px rgba(0, 0, 0, 0.3));\n",
              "      fill: #FFFFFF;\n",
              "    }\n",
              "  </style>\n",
              "\n",
              "    <script>\n",
              "      const buttonEl =\n",
              "        document.querySelector('#df-11e1e655-e2b9-4e00-a95f-2c52e557d37b button.colab-df-convert');\n",
              "      buttonEl.style.display =\n",
              "        google.colab.kernel.accessAllowed ? 'block' : 'none';\n",
              "\n",
              "      async function convertToInteractive(key) {\n",
              "        const element = document.querySelector('#df-11e1e655-e2b9-4e00-a95f-2c52e557d37b');\n",
              "        const dataTable =\n",
              "          await google.colab.kernel.invokeFunction('convertToInteractive',\n",
              "                                                    [key], {});\n",
              "        if (!dataTable) return;\n",
              "\n",
              "        const docLinkHtml = 'Like what you see? Visit the ' +\n",
              "          '<a target=\"_blank\" href=https://colab.research.google.com/notebooks/data_table.ipynb>data table notebook</a>'\n",
              "          + ' to learn more about interactive tables.';\n",
              "        element.innerHTML = '';\n",
              "        dataTable['output_type'] = 'display_data';\n",
              "        await google.colab.output.renderOutput(dataTable, element);\n",
              "        const docLink = document.createElement('div');\n",
              "        docLink.innerHTML = docLinkHtml;\n",
              "        element.appendChild(docLink);\n",
              "      }\n",
              "    </script>\n",
              "  </div>\n",
              "\n",
              "\n",
              "<div id=\"df-0b3c8352-0778-4e6f-8774-aa0b0ac0cb98\">\n",
              "  <button class=\"colab-df-quickchart\" onclick=\"quickchart('df-0b3c8352-0778-4e6f-8774-aa0b0ac0cb98')\"\n",
              "            title=\"Suggest charts\"\n",
              "            style=\"display:none;\">\n",
              "\n",
              "<svg xmlns=\"http://www.w3.org/2000/svg\" height=\"24px\"viewBox=\"0 0 24 24\"\n",
              "     width=\"24px\">\n",
              "    <g>\n",
              "        <path d=\"M19 3H5c-1.1 0-2 .9-2 2v14c0 1.1.9 2 2 2h14c1.1 0 2-.9 2-2V5c0-1.1-.9-2-2-2zM9 17H7v-7h2v7zm4 0h-2V7h2v10zm4 0h-2v-4h2v4z\"/>\n",
              "    </g>\n",
              "</svg>\n",
              "  </button>\n",
              "\n",
              "<style>\n",
              "  .colab-df-quickchart {\n",
              "      --bg-color: #E8F0FE;\n",
              "      --fill-color: #1967D2;\n",
              "      --hover-bg-color: #E2EBFA;\n",
              "      --hover-fill-color: #174EA6;\n",
              "      --disabled-fill-color: #AAA;\n",
              "      --disabled-bg-color: #DDD;\n",
              "  }\n",
              "\n",
              "  [theme=dark] .colab-df-quickchart {\n",
              "      --bg-color: #3B4455;\n",
              "      --fill-color: #D2E3FC;\n",
              "      --hover-bg-color: #434B5C;\n",
              "      --hover-fill-color: #FFFFFF;\n",
              "      --disabled-bg-color: #3B4455;\n",
              "      --disabled-fill-color: #666;\n",
              "  }\n",
              "\n",
              "  .colab-df-quickchart {\n",
              "    background-color: var(--bg-color);\n",
              "    border: none;\n",
              "    border-radius: 50%;\n",
              "    cursor: pointer;\n",
              "    display: none;\n",
              "    fill: var(--fill-color);\n",
              "    height: 32px;\n",
              "    padding: 0;\n",
              "    width: 32px;\n",
              "  }\n",
              "\n",
              "  .colab-df-quickchart:hover {\n",
              "    background-color: var(--hover-bg-color);\n",
              "    box-shadow: 0 1px 2px rgba(60, 64, 67, 0.3), 0 1px 3px 1px rgba(60, 64, 67, 0.15);\n",
              "    fill: var(--button-hover-fill-color);\n",
              "  }\n",
              "\n",
              "  .colab-df-quickchart-complete:disabled,\n",
              "  .colab-df-quickchart-complete:disabled:hover {\n",
              "    background-color: var(--disabled-bg-color);\n",
              "    fill: var(--disabled-fill-color);\n",
              "    box-shadow: none;\n",
              "  }\n",
              "\n",
              "  .colab-df-spinner {\n",
              "    border: 2px solid var(--fill-color);\n",
              "    border-color: transparent;\n",
              "    border-bottom-color: var(--fill-color);\n",
              "    animation:\n",
              "      spin 1s steps(1) infinite;\n",
              "  }\n",
              "\n",
              "  @keyframes spin {\n",
              "    0% {\n",
              "      border-color: transparent;\n",
              "      border-bottom-color: var(--fill-color);\n",
              "      border-left-color: var(--fill-color);\n",
              "    }\n",
              "    20% {\n",
              "      border-color: transparent;\n",
              "      border-left-color: var(--fill-color);\n",
              "      border-top-color: var(--fill-color);\n",
              "    }\n",
              "    30% {\n",
              "      border-color: transparent;\n",
              "      border-left-color: var(--fill-color);\n",
              "      border-top-color: var(--fill-color);\n",
              "      border-right-color: var(--fill-color);\n",
              "    }\n",
              "    40% {\n",
              "      border-color: transparent;\n",
              "      border-right-color: var(--fill-color);\n",
              "      border-top-color: var(--fill-color);\n",
              "    }\n",
              "    60% {\n",
              "      border-color: transparent;\n",
              "      border-right-color: var(--fill-color);\n",
              "    }\n",
              "    80% {\n",
              "      border-color: transparent;\n",
              "      border-right-color: var(--fill-color);\n",
              "      border-bottom-color: var(--fill-color);\n",
              "    }\n",
              "    90% {\n",
              "      border-color: transparent;\n",
              "      border-bottom-color: var(--fill-color);\n",
              "    }\n",
              "  }\n",
              "</style>\n",
              "\n",
              "  <script>\n",
              "    async function quickchart(key) {\n",
              "      const quickchartButtonEl =\n",
              "        document.querySelector('#' + key + ' button');\n",
              "      quickchartButtonEl.disabled = true;  // To prevent multiple clicks.\n",
              "      quickchartButtonEl.classList.add('colab-df-spinner');\n",
              "      try {\n",
              "        const charts = await google.colab.kernel.invokeFunction(\n",
              "            'suggestCharts', [key], {});\n",
              "      } catch (error) {\n",
              "        console.error('Error during call to suggestCharts:', error);\n",
              "      }\n",
              "      quickchartButtonEl.classList.remove('colab-df-spinner');\n",
              "      quickchartButtonEl.classList.add('colab-df-quickchart-complete');\n",
              "    }\n",
              "    (() => {\n",
              "      let quickchartButtonEl =\n",
              "        document.querySelector('#df-0b3c8352-0778-4e6f-8774-aa0b0ac0cb98 button');\n",
              "      quickchartButtonEl.style.display =\n",
              "        google.colab.kernel.accessAllowed ? 'block' : 'none';\n",
              "    })();\n",
              "  </script>\n",
              "</div>\n",
              "\n",
              "    </div>\n",
              "  </div>\n"
            ],
            "application/vnd.google.colaboratory.intrinsic+json": {
              "type": "dataframe",
              "summary": "{\n  \"name\": \"p_valors_df\",\n  \"rows\": 6,\n  \"fields\": [\n    {\n      \"column\": \"Variavel\",\n      \"properties\": {\n        \"dtype\": \"string\",\n        \"num_unique_values\": 6,\n        \"samples\": [\n          \"const\",\n          \"bs_000\",\n          \"cj_000\"\n        ],\n        \"semantic_type\": \"\",\n        \"description\": \"\"\n      }\n    },\n    {\n      \"column\": \"Valor_p\",\n      \"properties\": {\n        \"dtype\": \"number\",\n        \"std\": 3.2684702127941143e-09,\n        \"min\": 0.0,\n        \"max\": 6.377352392335167e-09,\n        \"num_unique_values\": 6,\n        \"samples\": [\n          0.0,\n          7.856159170245086e-39,\n          6.377352392335167e-09\n        ],\n        \"semantic_type\": \"\",\n        \"description\": \"\"\n      }\n    }\n  ]\n}"
            }
          },
          "metadata": {},
          "execution_count": 148
        }
      ]
    },
    {
      "cell_type": "markdown",
      "source": [
        "Aqui para tentar dizer quais variáveis foram mais importantes, usei o p-valor como critério. Assim, as variáveis que rejeitaram a hipótese de que seu coeficiente vale 0 com maior confiança, são as mais importantes."
      ],
      "metadata": {
        "id": "1nYt_VxOhUXp"
      }
    },
    {
      "cell_type": "markdown",
      "source": [
        "## XGboost\n",
        "\n",
        "Um modelo inicial poderia ser o abaixo."
      ],
      "metadata": {
        "id": "4-zOeI7ShlFS"
      }
    },
    {
      "cell_type": "code",
      "source": [
        "import xgboost as xgb\n",
        "xgbTreino = xgb.DMatrix(X_train, y_train, enable_categorical=True)\n",
        "xgboost_treino = xgb.XGBClassifier(\n",
        "    objective = 'binary:logistic',\n",
        "    missing = np.NaN,\n",
        "    seed = 42  ,\n",
        "    eval_metric = 'auc'\n",
        ")\n",
        "\n",
        "xgboost_treino.fit(\n",
        "    X_train,\n",
        "    y_train,\n",
        "    verbose = True\n",
        ")"
      ],
      "metadata": {
        "colab": {
          "base_uri": "https://localhost:8080/",
          "height": 248
        },
        "id": "U_NuUgk7hnNi",
        "outputId": "65250ea3-ea91-44bf-da88-22f6b29705e0"
      },
      "execution_count": 152,
      "outputs": [
        {
          "output_type": "execute_result",
          "data": {
            "text/plain": [
              "XGBClassifier(base_score=None, booster=None, callbacks=None,\n",
              "              colsample_bylevel=None, colsample_bynode=None,\n",
              "              colsample_bytree=None, device=None, early_stopping_rounds=None,\n",
              "              enable_categorical=False, eval_metric='auc', feature_types=None,\n",
              "              gamma=None, grow_policy=None, importance_type=None,\n",
              "              interaction_constraints=None, learning_rate=None, max_bin=None,\n",
              "              max_cat_threshold=None, max_cat_to_onehot=None,\n",
              "              max_delta_step=None, max_depth=None, max_leaves=None,\n",
              "              min_child_weight=None, missing=nan, monotone_constraints=None,\n",
              "              multi_strategy=None, n_estimators=None, n_jobs=None,\n",
              "              num_parallel_tree=None, random_state=None, ...)"
            ],
            "text/html": [
              "<style>#sk-container-id-2 {color: black;background-color: white;}#sk-container-id-2 pre{padding: 0;}#sk-container-id-2 div.sk-toggleable {background-color: white;}#sk-container-id-2 label.sk-toggleable__label {cursor: pointer;display: block;width: 100%;margin-bottom: 0;padding: 0.3em;box-sizing: border-box;text-align: center;}#sk-container-id-2 label.sk-toggleable__label-arrow:before {content: \"▸\";float: left;margin-right: 0.25em;color: #696969;}#sk-container-id-2 label.sk-toggleable__label-arrow:hover:before {color: black;}#sk-container-id-2 div.sk-estimator:hover label.sk-toggleable__label-arrow:before {color: black;}#sk-container-id-2 div.sk-toggleable__content {max-height: 0;max-width: 0;overflow: hidden;text-align: left;background-color: #f0f8ff;}#sk-container-id-2 div.sk-toggleable__content pre {margin: 0.2em;color: black;border-radius: 0.25em;background-color: #f0f8ff;}#sk-container-id-2 input.sk-toggleable__control:checked~div.sk-toggleable__content {max-height: 200px;max-width: 100%;overflow: auto;}#sk-container-id-2 input.sk-toggleable__control:checked~label.sk-toggleable__label-arrow:before {content: \"▾\";}#sk-container-id-2 div.sk-estimator input.sk-toggleable__control:checked~label.sk-toggleable__label {background-color: #d4ebff;}#sk-container-id-2 div.sk-label input.sk-toggleable__control:checked~label.sk-toggleable__label {background-color: #d4ebff;}#sk-container-id-2 input.sk-hidden--visually {border: 0;clip: rect(1px 1px 1px 1px);clip: rect(1px, 1px, 1px, 1px);height: 1px;margin: -1px;overflow: hidden;padding: 0;position: absolute;width: 1px;}#sk-container-id-2 div.sk-estimator {font-family: monospace;background-color: #f0f8ff;border: 1px dotted black;border-radius: 0.25em;box-sizing: border-box;margin-bottom: 0.5em;}#sk-container-id-2 div.sk-estimator:hover {background-color: #d4ebff;}#sk-container-id-2 div.sk-parallel-item::after {content: \"\";width: 100%;border-bottom: 1px solid gray;flex-grow: 1;}#sk-container-id-2 div.sk-label:hover label.sk-toggleable__label {background-color: #d4ebff;}#sk-container-id-2 div.sk-serial::before {content: \"\";position: absolute;border-left: 1px solid gray;box-sizing: border-box;top: 0;bottom: 0;left: 50%;z-index: 0;}#sk-container-id-2 div.sk-serial {display: flex;flex-direction: column;align-items: center;background-color: white;padding-right: 0.2em;padding-left: 0.2em;position: relative;}#sk-container-id-2 div.sk-item {position: relative;z-index: 1;}#sk-container-id-2 div.sk-parallel {display: flex;align-items: stretch;justify-content: center;background-color: white;position: relative;}#sk-container-id-2 div.sk-item::before, #sk-container-id-2 div.sk-parallel-item::before {content: \"\";position: absolute;border-left: 1px solid gray;box-sizing: border-box;top: 0;bottom: 0;left: 50%;z-index: -1;}#sk-container-id-2 div.sk-parallel-item {display: flex;flex-direction: column;z-index: 1;position: relative;background-color: white;}#sk-container-id-2 div.sk-parallel-item:first-child::after {align-self: flex-end;width: 50%;}#sk-container-id-2 div.sk-parallel-item:last-child::after {align-self: flex-start;width: 50%;}#sk-container-id-2 div.sk-parallel-item:only-child::after {width: 0;}#sk-container-id-2 div.sk-dashed-wrapped {border: 1px dashed gray;margin: 0 0.4em 0.5em 0.4em;box-sizing: border-box;padding-bottom: 0.4em;background-color: white;}#sk-container-id-2 div.sk-label label {font-family: monospace;font-weight: bold;display: inline-block;line-height: 1.2em;}#sk-container-id-2 div.sk-label-container {text-align: center;}#sk-container-id-2 div.sk-container {/* jupyter's `normalize.less` sets `[hidden] { display: none; }` but bootstrap.min.css set `[hidden] { display: none !important; }` so we also need the `!important` here to be able to override the default hidden behavior on the sphinx rendered scikit-learn.org. See: https://github.com/scikit-learn/scikit-learn/issues/21755 */display: inline-block !important;position: relative;}#sk-container-id-2 div.sk-text-repr-fallback {display: none;}</style><div id=\"sk-container-id-2\" class=\"sk-top-container\"><div class=\"sk-text-repr-fallback\"><pre>XGBClassifier(base_score=None, booster=None, callbacks=None,\n",
              "              colsample_bylevel=None, colsample_bynode=None,\n",
              "              colsample_bytree=None, device=None, early_stopping_rounds=None,\n",
              "              enable_categorical=False, eval_metric=&#x27;auc&#x27;, feature_types=None,\n",
              "              gamma=None, grow_policy=None, importance_type=None,\n",
              "              interaction_constraints=None, learning_rate=None, max_bin=None,\n",
              "              max_cat_threshold=None, max_cat_to_onehot=None,\n",
              "              max_delta_step=None, max_depth=None, max_leaves=None,\n",
              "              min_child_weight=None, missing=nan, monotone_constraints=None,\n",
              "              multi_strategy=None, n_estimators=None, n_jobs=None,\n",
              "              num_parallel_tree=None, random_state=None, ...)</pre><b>In a Jupyter environment, please rerun this cell to show the HTML representation or trust the notebook. <br />On GitHub, the HTML representation is unable to render, please try loading this page with nbviewer.org.</b></div><div class=\"sk-container\" hidden><div class=\"sk-item\"><div class=\"sk-estimator sk-toggleable\"><input class=\"sk-toggleable__control sk-hidden--visually\" id=\"sk-estimator-id-2\" type=\"checkbox\" checked><label for=\"sk-estimator-id-2\" class=\"sk-toggleable__label sk-toggleable__label-arrow\">XGBClassifier</label><div class=\"sk-toggleable__content\"><pre>XGBClassifier(base_score=None, booster=None, callbacks=None,\n",
              "              colsample_bylevel=None, colsample_bynode=None,\n",
              "              colsample_bytree=None, device=None, early_stopping_rounds=None,\n",
              "              enable_categorical=False, eval_metric=&#x27;auc&#x27;, feature_types=None,\n",
              "              gamma=None, grow_policy=None, importance_type=None,\n",
              "              interaction_constraints=None, learning_rate=None, max_bin=None,\n",
              "              max_cat_threshold=None, max_cat_to_onehot=None,\n",
              "              max_delta_step=None, max_depth=None, max_leaves=None,\n",
              "              min_child_weight=None, missing=nan, monotone_constraints=None,\n",
              "              multi_strategy=None, n_estimators=None, n_jobs=None,\n",
              "              num_parallel_tree=None, random_state=None, ...)</pre></div></div></div></div></div>"
            ]
          },
          "metadata": {},
          "execution_count": 152
        }
      ]
    },
    {
      "cell_type": "markdown",
      "source": [
        "Agora, vamos fazer uma seleção dos hiperparâmetros. Por exemplo, a taxa de aprendizado, a profundidade máxima e os pesos atribuidos a cada grupo. Esse último parâmetro é especialmente importante pois os grupos são muito desbalanceados.\n",
        "\n",
        "Repare também que a métrica para escolher os melhores parâmetros foi o recall,pois o problema foi muito claro no quesito de qual erro é mais impactante nesse contexto."
      ],
      "metadata": {
        "id": "mKKwTOZuhzNC"
      }
    },
    {
      "cell_type": "code",
      "source": [
        "from sklearn.model_selection import GridSearchCV\n",
        "params_grid = {\n",
        "    'max_depth': [25, 50, 75],\n",
        "    'learning_rate': [0.01, 0.1],\n",
        "    'gamma': [0.1, 1],\n",
        "    'reg_lambda': [1, 10],\n",
        "    'scale_pos_weight': [30, 60] # pelo fato dos grupos serem muito desbalanceados\n",
        "}\n",
        "\n",
        "otimizados = GridSearchCV(\n",
        "    estimator = xgb.XGBClassifier(objective = 'binary:logistic',\n",
        "                                  missing = np.NaN,\n",
        "                                  subsample = 0.6,\n",
        "                                  colsample_bytree = 0.5),\n",
        "    param_grid = params_grid,\n",
        "    scoring = 'recall',\n",
        "    cv = 3,\n",
        "    n_jobs = -1\n",
        ")\n",
        "\n",
        "otimizados.fit(\n",
        "    X_train,\n",
        "    y_train,\n",
        "    verbose = True\n",
        ")"
      ],
      "metadata": {
        "colab": {
          "base_uri": "https://localhost:8080/",
          "height": 172
        },
        "id": "gdXArcVDhzah",
        "outputId": "9fb8ab77-cc65-46d2-e12e-934873e68187"
      },
      "execution_count": 153,
      "outputs": [
        {
          "output_type": "stream",
          "name": "stderr",
          "text": [
            "/usr/local/lib/python3.10/dist-packages/joblib/externals/loky/process_executor.py:752: UserWarning: A worker stopped while some jobs were given to the executor. This can be caused by a too short worker timeout or by a memory leak.\n",
            "  warnings.warn(\n"
          ]
        },
        {
          "output_type": "execute_result",
          "data": {
            "text/plain": [
              "GridSearchCV(cv=3,\n",
              "             estimator=XGBClassifier(base_score=None, booster=None,\n",
              "                                     callbacks=None, colsample_bylevel=None,\n",
              "                                     colsample_bynode=None,\n",
              "                                     colsample_bytree=0.5, device=None,\n",
              "                                     early_stopping_rounds=None,\n",
              "                                     enable_categorical=False, eval_metric=None,\n",
              "                                     feature_types=None, gamma=None,\n",
              "                                     grow_policy=None, importance_type=None,\n",
              "                                     interaction_constraints=None,\n",
              "                                     learning_rate=None, m...\n",
              "                                     max_delta_step=None, max_depth=None,\n",
              "                                     max_leaves=None, min_child_weight=None,\n",
              "                                     missing=nan, monotone_constraints=None,\n",
              "                                     multi_strategy=None, n_estimators=None,\n",
              "                                     n_jobs=None, num_parallel_tree=None,\n",
              "                                     random_state=None, ...),\n",
              "             n_jobs=-1,\n",
              "             param_grid={'gamma': [0.1, 1], 'learning_rate': [0.01, 0.1],\n",
              "                         'max_depth': [25, 50, 75], 'reg_lambda': [1, 10],\n",
              "                         'scale_pos_weight': [30, 60]},\n",
              "             scoring='recall')"
            ],
            "text/html": [
              "<style>#sk-container-id-3 {color: black;background-color: white;}#sk-container-id-3 pre{padding: 0;}#sk-container-id-3 div.sk-toggleable {background-color: white;}#sk-container-id-3 label.sk-toggleable__label {cursor: pointer;display: block;width: 100%;margin-bottom: 0;padding: 0.3em;box-sizing: border-box;text-align: center;}#sk-container-id-3 label.sk-toggleable__label-arrow:before {content: \"▸\";float: left;margin-right: 0.25em;color: #696969;}#sk-container-id-3 label.sk-toggleable__label-arrow:hover:before {color: black;}#sk-container-id-3 div.sk-estimator:hover label.sk-toggleable__label-arrow:before {color: black;}#sk-container-id-3 div.sk-toggleable__content {max-height: 0;max-width: 0;overflow: hidden;text-align: left;background-color: #f0f8ff;}#sk-container-id-3 div.sk-toggleable__content pre {margin: 0.2em;color: black;border-radius: 0.25em;background-color: #f0f8ff;}#sk-container-id-3 input.sk-toggleable__control:checked~div.sk-toggleable__content {max-height: 200px;max-width: 100%;overflow: auto;}#sk-container-id-3 input.sk-toggleable__control:checked~label.sk-toggleable__label-arrow:before {content: \"▾\";}#sk-container-id-3 div.sk-estimator input.sk-toggleable__control:checked~label.sk-toggleable__label {background-color: #d4ebff;}#sk-container-id-3 div.sk-label input.sk-toggleable__control:checked~label.sk-toggleable__label {background-color: #d4ebff;}#sk-container-id-3 input.sk-hidden--visually {border: 0;clip: rect(1px 1px 1px 1px);clip: rect(1px, 1px, 1px, 1px);height: 1px;margin: -1px;overflow: hidden;padding: 0;position: absolute;width: 1px;}#sk-container-id-3 div.sk-estimator {font-family: monospace;background-color: #f0f8ff;border: 1px dotted black;border-radius: 0.25em;box-sizing: border-box;margin-bottom: 0.5em;}#sk-container-id-3 div.sk-estimator:hover {background-color: #d4ebff;}#sk-container-id-3 div.sk-parallel-item::after {content: \"\";width: 100%;border-bottom: 1px solid gray;flex-grow: 1;}#sk-container-id-3 div.sk-label:hover label.sk-toggleable__label {background-color: #d4ebff;}#sk-container-id-3 div.sk-serial::before {content: \"\";position: absolute;border-left: 1px solid gray;box-sizing: border-box;top: 0;bottom: 0;left: 50%;z-index: 0;}#sk-container-id-3 div.sk-serial {display: flex;flex-direction: column;align-items: center;background-color: white;padding-right: 0.2em;padding-left: 0.2em;position: relative;}#sk-container-id-3 div.sk-item {position: relative;z-index: 1;}#sk-container-id-3 div.sk-parallel {display: flex;align-items: stretch;justify-content: center;background-color: white;position: relative;}#sk-container-id-3 div.sk-item::before, #sk-container-id-3 div.sk-parallel-item::before {content: \"\";position: absolute;border-left: 1px solid gray;box-sizing: border-box;top: 0;bottom: 0;left: 50%;z-index: -1;}#sk-container-id-3 div.sk-parallel-item {display: flex;flex-direction: column;z-index: 1;position: relative;background-color: white;}#sk-container-id-3 div.sk-parallel-item:first-child::after {align-self: flex-end;width: 50%;}#sk-container-id-3 div.sk-parallel-item:last-child::after {align-self: flex-start;width: 50%;}#sk-container-id-3 div.sk-parallel-item:only-child::after {width: 0;}#sk-container-id-3 div.sk-dashed-wrapped {border: 1px dashed gray;margin: 0 0.4em 0.5em 0.4em;box-sizing: border-box;padding-bottom: 0.4em;background-color: white;}#sk-container-id-3 div.sk-label label {font-family: monospace;font-weight: bold;display: inline-block;line-height: 1.2em;}#sk-container-id-3 div.sk-label-container {text-align: center;}#sk-container-id-3 div.sk-container {/* jupyter's `normalize.less` sets `[hidden] { display: none; }` but bootstrap.min.css set `[hidden] { display: none !important; }` so we also need the `!important` here to be able to override the default hidden behavior on the sphinx rendered scikit-learn.org. See: https://github.com/scikit-learn/scikit-learn/issues/21755 */display: inline-block !important;position: relative;}#sk-container-id-3 div.sk-text-repr-fallback {display: none;}</style><div id=\"sk-container-id-3\" class=\"sk-top-container\"><div class=\"sk-text-repr-fallback\"><pre>GridSearchCV(cv=3,\n",
              "             estimator=XGBClassifier(base_score=None, booster=None,\n",
              "                                     callbacks=None, colsample_bylevel=None,\n",
              "                                     colsample_bynode=None,\n",
              "                                     colsample_bytree=0.5, device=None,\n",
              "                                     early_stopping_rounds=None,\n",
              "                                     enable_categorical=False, eval_metric=None,\n",
              "                                     feature_types=None, gamma=None,\n",
              "                                     grow_policy=None, importance_type=None,\n",
              "                                     interaction_constraints=None,\n",
              "                                     learning_rate=None, m...\n",
              "                                     max_delta_step=None, max_depth=None,\n",
              "                                     max_leaves=None, min_child_weight=None,\n",
              "                                     missing=nan, monotone_constraints=None,\n",
              "                                     multi_strategy=None, n_estimators=None,\n",
              "                                     n_jobs=None, num_parallel_tree=None,\n",
              "                                     random_state=None, ...),\n",
              "             n_jobs=-1,\n",
              "             param_grid={&#x27;gamma&#x27;: [0.1, 1], &#x27;learning_rate&#x27;: [0.01, 0.1],\n",
              "                         &#x27;max_depth&#x27;: [25, 50, 75], &#x27;reg_lambda&#x27;: [1, 10],\n",
              "                         &#x27;scale_pos_weight&#x27;: [30, 60]},\n",
              "             scoring=&#x27;recall&#x27;)</pre><b>In a Jupyter environment, please rerun this cell to show the HTML representation or trust the notebook. <br />On GitHub, the HTML representation is unable to render, please try loading this page with nbviewer.org.</b></div><div class=\"sk-container\" hidden><div class=\"sk-item sk-dashed-wrapped\"><div class=\"sk-label-container\"><div class=\"sk-label sk-toggleable\"><input class=\"sk-toggleable__control sk-hidden--visually\" id=\"sk-estimator-id-3\" type=\"checkbox\" ><label for=\"sk-estimator-id-3\" class=\"sk-toggleable__label sk-toggleable__label-arrow\">GridSearchCV</label><div class=\"sk-toggleable__content\"><pre>GridSearchCV(cv=3,\n",
              "             estimator=XGBClassifier(base_score=None, booster=None,\n",
              "                                     callbacks=None, colsample_bylevel=None,\n",
              "                                     colsample_bynode=None,\n",
              "                                     colsample_bytree=0.5, device=None,\n",
              "                                     early_stopping_rounds=None,\n",
              "                                     enable_categorical=False, eval_metric=None,\n",
              "                                     feature_types=None, gamma=None,\n",
              "                                     grow_policy=None, importance_type=None,\n",
              "                                     interaction_constraints=None,\n",
              "                                     learning_rate=None, m...\n",
              "                                     max_delta_step=None, max_depth=None,\n",
              "                                     max_leaves=None, min_child_weight=None,\n",
              "                                     missing=nan, monotone_constraints=None,\n",
              "                                     multi_strategy=None, n_estimators=None,\n",
              "                                     n_jobs=None, num_parallel_tree=None,\n",
              "                                     random_state=None, ...),\n",
              "             n_jobs=-1,\n",
              "             param_grid={&#x27;gamma&#x27;: [0.1, 1], &#x27;learning_rate&#x27;: [0.01, 0.1],\n",
              "                         &#x27;max_depth&#x27;: [25, 50, 75], &#x27;reg_lambda&#x27;: [1, 10],\n",
              "                         &#x27;scale_pos_weight&#x27;: [30, 60]},\n",
              "             scoring=&#x27;recall&#x27;)</pre></div></div></div><div class=\"sk-parallel\"><div class=\"sk-parallel-item\"><div class=\"sk-item\"><div class=\"sk-label-container\"><div class=\"sk-label sk-toggleable\"><input class=\"sk-toggleable__control sk-hidden--visually\" id=\"sk-estimator-id-4\" type=\"checkbox\" ><label for=\"sk-estimator-id-4\" class=\"sk-toggleable__label sk-toggleable__label-arrow\">estimator: XGBClassifier</label><div class=\"sk-toggleable__content\"><pre>XGBClassifier(base_score=None, booster=None, callbacks=None,\n",
              "              colsample_bylevel=None, colsample_bynode=None,\n",
              "              colsample_bytree=0.5, device=None, early_stopping_rounds=None,\n",
              "              enable_categorical=False, eval_metric=None, feature_types=None,\n",
              "              gamma=None, grow_policy=None, importance_type=None,\n",
              "              interaction_constraints=None, learning_rate=None, max_bin=None,\n",
              "              max_cat_threshold=None, max_cat_to_onehot=None,\n",
              "              max_delta_step=None, max_depth=None, max_leaves=None,\n",
              "              min_child_weight=None, missing=nan, monotone_constraints=None,\n",
              "              multi_strategy=None, n_estimators=None, n_jobs=None,\n",
              "              num_parallel_tree=None, random_state=None, ...)</pre></div></div></div><div class=\"sk-serial\"><div class=\"sk-item\"><div class=\"sk-estimator sk-toggleable\"><input class=\"sk-toggleable__control sk-hidden--visually\" id=\"sk-estimator-id-5\" type=\"checkbox\" ><label for=\"sk-estimator-id-5\" class=\"sk-toggleable__label sk-toggleable__label-arrow\">XGBClassifier</label><div class=\"sk-toggleable__content\"><pre>XGBClassifier(base_score=None, booster=None, callbacks=None,\n",
              "              colsample_bylevel=None, colsample_bynode=None,\n",
              "              colsample_bytree=0.5, device=None, early_stopping_rounds=None,\n",
              "              enable_categorical=False, eval_metric=None, feature_types=None,\n",
              "              gamma=None, grow_policy=None, importance_type=None,\n",
              "              interaction_constraints=None, learning_rate=None, max_bin=None,\n",
              "              max_cat_threshold=None, max_cat_to_onehot=None,\n",
              "              max_delta_step=None, max_depth=None, max_leaves=None,\n",
              "              min_child_weight=None, missing=nan, monotone_constraints=None,\n",
              "              multi_strategy=None, n_estimators=None, n_jobs=None,\n",
              "              num_parallel_tree=None, random_state=None, ...)</pre></div></div></div></div></div></div></div></div></div></div>"
            ]
          },
          "metadata": {},
          "execution_count": 153
        }
      ]
    },
    {
      "cell_type": "markdown",
      "source": [
        "Esses foram os parâmetros escolhidos"
      ],
      "metadata": {
        "id": "jM7QMULujB0K"
      }
    },
    {
      "cell_type": "code",
      "source": [
        "otimizados.best_params_"
      ],
      "metadata": {
        "colab": {
          "base_uri": "https://localhost:8080/"
        },
        "id": "L-RmHV8-jBQb",
        "outputId": "1e692396-2fbb-4bb1-e96f-c586ad6ef2df"
      },
      "execution_count": 154,
      "outputs": [
        {
          "output_type": "execute_result",
          "data": {
            "text/plain": [
              "{'gamma': 1,\n",
              " 'learning_rate': 0.01,\n",
              " 'max_depth': 25,\n",
              " 'reg_lambda': 10,\n",
              " 'scale_pos_weight': 60}"
            ]
          },
          "metadata": {},
          "execution_count": 154
        }
      ]
    },
    {
      "cell_type": "markdown",
      "source": [
        "Como alguns dos hiperparâmetros otimizados foram o máximo ou mínimo das opções listadas, irei realizar outra validação cruzada"
      ],
      "metadata": {
        "id": "1B65QujujK_V"
      }
    },
    {
      "cell_type": "code",
      "source": [
        "params_grid2 = {\n",
        "    'max_depth': [15, 25],\n",
        "    'learning_rate': [0.01,.005],\n",
        "    'gamma': [1, 5],\n",
        "    'reg_lambda': [10, 15, 20],\n",
        "    'scale_pos_weight': [60] # pelo fato dos grupos serem muito desbalanceados\n",
        "}\n",
        "\n",
        "otimizados2 = GridSearchCV(\n",
        "    estimator = xgb.XGBClassifier(objective = 'binary:logistic',\n",
        "                                  missing = np.NaN,\n",
        "                                  subsample = 0.6,\n",
        "                                  colsample_bytree = 0.5),\n",
        "    param_grid = params_grid2,\n",
        "    scoring = 'recall',\n",
        "    cv = 3,\n",
        "    n_jobs = -1\n",
        ")\n",
        "\n",
        "otimizados2.fit(\n",
        "    X_train,\n",
        "    y_train,\n",
        "    verbose = True\n",
        ")\n",
        "\n",
        "otimizados2.best_params_"
      ],
      "metadata": {
        "colab": {
          "base_uri": "https://localhost:8080/"
        },
        "id": "cQhCk0QHjOjJ",
        "outputId": "a6644180-bdc3-40fc-86bb-a43c4bb63e74"
      },
      "execution_count": 155,
      "outputs": [
        {
          "output_type": "stream",
          "name": "stderr",
          "text": [
            "/usr/local/lib/python3.10/dist-packages/joblib/externals/loky/process_executor.py:752: UserWarning: A worker stopped while some jobs were given to the executor. This can be caused by a too short worker timeout or by a memory leak.\n",
            "  warnings.warn(\n"
          ]
        },
        {
          "output_type": "execute_result",
          "data": {
            "text/plain": [
              "{'gamma': 5,\n",
              " 'learning_rate': 0.005,\n",
              " 'max_depth': 25,\n",
              " 'reg_lambda': 20,\n",
              " 'scale_pos_weight': 60}"
            ]
          },
          "metadata": {},
          "execution_count": 155
        }
      ]
    },
    {
      "cell_type": "markdown",
      "source": [
        "Houveram algumas mudanças, vamos fazer um processo análogo novamente\n",
        "\n"
      ],
      "metadata": {
        "id": "kaz85wDLjTBb"
      }
    },
    {
      "cell_type": "code",
      "source": [
        "params_grid3 = {\n",
        "    'max_depth': [25],\n",
        "    'learning_rate': [0.001,.005],\n",
        "    'gamma': [5,10],\n",
        "    'reg_lambda': [20, 30, 40],\n",
        "    'scale_pos_weight': [60] # pelo fato dos grupos serem muito desbalanceados\n",
        "}\n",
        "\n",
        "otimizados3 = GridSearchCV(\n",
        "    estimator = xgb.XGBClassifier(objective = 'binary:logistic',\n",
        "                                  missing = np.NaN,\n",
        "                                  subsample = 0.6,\n",
        "                                  colsample_bytree = 0.5),\n",
        "    param_grid = params_grid3,\n",
        "    scoring = 'recall',\n",
        "    cv = 3,\n",
        "    n_jobs = -1\n",
        ")\n",
        "\n",
        "otimizados3.fit(\n",
        "    X_train,\n",
        "    y_train,\n",
        "    verbose = True\n",
        ")\n",
        "\n",
        "otimizados3.best_params_"
      ],
      "metadata": {
        "colab": {
          "base_uri": "https://localhost:8080/"
        },
        "id": "ZZuJGbErjWWl",
        "outputId": "128e167d-1b8b-4dc1-d977-a7c39568b468"
      },
      "execution_count": 156,
      "outputs": [
        {
          "output_type": "execute_result",
          "data": {
            "text/plain": [
              "{'gamma': 5,\n",
              " 'learning_rate': 0.001,\n",
              " 'max_depth': 25,\n",
              " 'reg_lambda': 40,\n",
              " 'scale_pos_weight': 60}"
            ]
          },
          "metadata": {},
          "execution_count": 156
        }
      ]
    },
    {
      "cell_type": "markdown",
      "source": [
        "Novamente"
      ],
      "metadata": {
        "id": "Mctv7DWGqOPc"
      }
    },
    {
      "cell_type": "code",
      "source": [
        "params_grid4 = {\n",
        "    'max_depth': [25],\n",
        "    'learning_rate': [0.001,.0005],\n",
        "    'gamma': [5],\n",
        "    'reg_lambda': [40,60,80],\n",
        "    'scale_pos_weight': [60] # pelo fato dos grupos serem muito desbalanceados\n",
        "}\n",
        "\n",
        "otimizados4 = GridSearchCV(\n",
        "    estimator = xgb.XGBClassifier(objective = 'binary:logistic',\n",
        "                                  missing = np.NaN,\n",
        "                                  subsample = 0.6,\n",
        "                                  colsample_bytree = 0.5),\n",
        "    param_grid = params_grid4,\n",
        "    scoring = 'recall',\n",
        "    cv = 3,\n",
        "    n_jobs = -1\n",
        ")\n",
        "\n",
        "otimizados4.fit(\n",
        "    X_train,\n",
        "    y_train,\n",
        "    verbose = True\n",
        ")\n",
        "\n",
        "otimizados4.best_params_"
      ],
      "metadata": {
        "colab": {
          "base_uri": "https://localhost:8080/"
        },
        "id": "oyFkxrmwqPEe",
        "outputId": "0c50ec8c-d1f4-474e-f3ad-c514aa2d0605"
      },
      "execution_count": 165,
      "outputs": [
        {
          "output_type": "execute_result",
          "data": {
            "text/plain": [
              "{'gamma': 5,\n",
              " 'learning_rate': 0.0005,\n",
              " 'max_depth': 25,\n",
              " 'reg_lambda': 80,\n",
              " 'scale_pos_weight': 60}"
            ]
          },
          "metadata": {},
          "execution_count": 165
        }
      ]
    },
    {
      "cell_type": "markdown",
      "source": [
        "Ótimo! Já temos os hiperparâmetros para o XGBoost."
      ],
      "metadata": {
        "id": "SKyt0OSsjZdC"
      }
    },
    {
      "cell_type": "code",
      "source": [
        "parametros = otimizados4.best_params_\n",
        "\n",
        "xgboost_model = xgb.XGBClassifier(\n",
        "    objective = 'binary:logistic',\n",
        "    missing = np.NaN,\n",
        "    seed = 42,\n",
        "    eval_metric = 'auc',\n",
        "    **parametros\n",
        ")\n",
        "\n",
        "xgboost_model.fit(\n",
        "    X_train,\n",
        "    y_train,\n",
        "    verbose = True\n",
        ")"
      ],
      "metadata": {
        "colab": {
          "base_uri": "https://localhost:8080/",
          "height": 248
        },
        "id": "h-_DVVrXjfFb",
        "outputId": "3d54074f-37e0-4135-bcff-c9e81b864ed5"
      },
      "execution_count": 173,
      "outputs": [
        {
          "output_type": "execute_result",
          "data": {
            "text/plain": [
              "XGBClassifier(base_score=None, booster=None, callbacks=None,\n",
              "              colsample_bylevel=None, colsample_bynode=None,\n",
              "              colsample_bytree=None, device=None, early_stopping_rounds=None,\n",
              "              enable_categorical=False, eval_metric='auc', feature_types=None,\n",
              "              gamma=5, grow_policy=None, importance_type=None,\n",
              "              interaction_constraints=None, learning_rate=0.0005, max_bin=None,\n",
              "              max_cat_threshold=None, max_cat_to_onehot=None,\n",
              "              max_delta_step=None, max_depth=25, max_leaves=None,\n",
              "              min_child_weight=None, missing=nan, monotone_constraints=None,\n",
              "              multi_strategy=None, n_estimators=None, n_jobs=None,\n",
              "              num_parallel_tree=None, random_state=None, ...)"
            ],
            "text/html": [
              "<style>#sk-container-id-7 {color: black;background-color: white;}#sk-container-id-7 pre{padding: 0;}#sk-container-id-7 div.sk-toggleable {background-color: white;}#sk-container-id-7 label.sk-toggleable__label {cursor: pointer;display: block;width: 100%;margin-bottom: 0;padding: 0.3em;box-sizing: border-box;text-align: center;}#sk-container-id-7 label.sk-toggleable__label-arrow:before {content: \"▸\";float: left;margin-right: 0.25em;color: #696969;}#sk-container-id-7 label.sk-toggleable__label-arrow:hover:before {color: black;}#sk-container-id-7 div.sk-estimator:hover label.sk-toggleable__label-arrow:before {color: black;}#sk-container-id-7 div.sk-toggleable__content {max-height: 0;max-width: 0;overflow: hidden;text-align: left;background-color: #f0f8ff;}#sk-container-id-7 div.sk-toggleable__content pre {margin: 0.2em;color: black;border-radius: 0.25em;background-color: #f0f8ff;}#sk-container-id-7 input.sk-toggleable__control:checked~div.sk-toggleable__content {max-height: 200px;max-width: 100%;overflow: auto;}#sk-container-id-7 input.sk-toggleable__control:checked~label.sk-toggleable__label-arrow:before {content: \"▾\";}#sk-container-id-7 div.sk-estimator input.sk-toggleable__control:checked~label.sk-toggleable__label {background-color: #d4ebff;}#sk-container-id-7 div.sk-label input.sk-toggleable__control:checked~label.sk-toggleable__label {background-color: #d4ebff;}#sk-container-id-7 input.sk-hidden--visually {border: 0;clip: rect(1px 1px 1px 1px);clip: rect(1px, 1px, 1px, 1px);height: 1px;margin: -1px;overflow: hidden;padding: 0;position: absolute;width: 1px;}#sk-container-id-7 div.sk-estimator {font-family: monospace;background-color: #f0f8ff;border: 1px dotted black;border-radius: 0.25em;box-sizing: border-box;margin-bottom: 0.5em;}#sk-container-id-7 div.sk-estimator:hover {background-color: #d4ebff;}#sk-container-id-7 div.sk-parallel-item::after {content: \"\";width: 100%;border-bottom: 1px solid gray;flex-grow: 1;}#sk-container-id-7 div.sk-label:hover label.sk-toggleable__label {background-color: #d4ebff;}#sk-container-id-7 div.sk-serial::before {content: \"\";position: absolute;border-left: 1px solid gray;box-sizing: border-box;top: 0;bottom: 0;left: 50%;z-index: 0;}#sk-container-id-7 div.sk-serial {display: flex;flex-direction: column;align-items: center;background-color: white;padding-right: 0.2em;padding-left: 0.2em;position: relative;}#sk-container-id-7 div.sk-item {position: relative;z-index: 1;}#sk-container-id-7 div.sk-parallel {display: flex;align-items: stretch;justify-content: center;background-color: white;position: relative;}#sk-container-id-7 div.sk-item::before, #sk-container-id-7 div.sk-parallel-item::before {content: \"\";position: absolute;border-left: 1px solid gray;box-sizing: border-box;top: 0;bottom: 0;left: 50%;z-index: -1;}#sk-container-id-7 div.sk-parallel-item {display: flex;flex-direction: column;z-index: 1;position: relative;background-color: white;}#sk-container-id-7 div.sk-parallel-item:first-child::after {align-self: flex-end;width: 50%;}#sk-container-id-7 div.sk-parallel-item:last-child::after {align-self: flex-start;width: 50%;}#sk-container-id-7 div.sk-parallel-item:only-child::after {width: 0;}#sk-container-id-7 div.sk-dashed-wrapped {border: 1px dashed gray;margin: 0 0.4em 0.5em 0.4em;box-sizing: border-box;padding-bottom: 0.4em;background-color: white;}#sk-container-id-7 div.sk-label label {font-family: monospace;font-weight: bold;display: inline-block;line-height: 1.2em;}#sk-container-id-7 div.sk-label-container {text-align: center;}#sk-container-id-7 div.sk-container {/* jupyter's `normalize.less` sets `[hidden] { display: none; }` but bootstrap.min.css set `[hidden] { display: none !important; }` so we also need the `!important` here to be able to override the default hidden behavior on the sphinx rendered scikit-learn.org. See: https://github.com/scikit-learn/scikit-learn/issues/21755 */display: inline-block !important;position: relative;}#sk-container-id-7 div.sk-text-repr-fallback {display: none;}</style><div id=\"sk-container-id-7\" class=\"sk-top-container\"><div class=\"sk-text-repr-fallback\"><pre>XGBClassifier(base_score=None, booster=None, callbacks=None,\n",
              "              colsample_bylevel=None, colsample_bynode=None,\n",
              "              colsample_bytree=None, device=None, early_stopping_rounds=None,\n",
              "              enable_categorical=False, eval_metric=&#x27;auc&#x27;, feature_types=None,\n",
              "              gamma=5, grow_policy=None, importance_type=None,\n",
              "              interaction_constraints=None, learning_rate=0.0005, max_bin=None,\n",
              "              max_cat_threshold=None, max_cat_to_onehot=None,\n",
              "              max_delta_step=None, max_depth=25, max_leaves=None,\n",
              "              min_child_weight=None, missing=nan, monotone_constraints=None,\n",
              "              multi_strategy=None, n_estimators=None, n_jobs=None,\n",
              "              num_parallel_tree=None, random_state=None, ...)</pre><b>In a Jupyter environment, please rerun this cell to show the HTML representation or trust the notebook. <br />On GitHub, the HTML representation is unable to render, please try loading this page with nbviewer.org.</b></div><div class=\"sk-container\" hidden><div class=\"sk-item\"><div class=\"sk-estimator sk-toggleable\"><input class=\"sk-toggleable__control sk-hidden--visually\" id=\"sk-estimator-id-9\" type=\"checkbox\" checked><label for=\"sk-estimator-id-9\" class=\"sk-toggleable__label sk-toggleable__label-arrow\">XGBClassifier</label><div class=\"sk-toggleable__content\"><pre>XGBClassifier(base_score=None, booster=None, callbacks=None,\n",
              "              colsample_bylevel=None, colsample_bynode=None,\n",
              "              colsample_bytree=None, device=None, early_stopping_rounds=None,\n",
              "              enable_categorical=False, eval_metric=&#x27;auc&#x27;, feature_types=None,\n",
              "              gamma=5, grow_policy=None, importance_type=None,\n",
              "              interaction_constraints=None, learning_rate=0.0005, max_bin=None,\n",
              "              max_cat_threshold=None, max_cat_to_onehot=None,\n",
              "              max_delta_step=None, max_depth=25, max_leaves=None,\n",
              "              min_child_weight=None, missing=nan, monotone_constraints=None,\n",
              "              multi_strategy=None, n_estimators=None, n_jobs=None,\n",
              "              num_parallel_tree=None, random_state=None, ...)</pre></div></div></div></div></div>"
            ]
          },
          "metadata": {},
          "execution_count": 173
        }
      ]
    },
    {
      "cell_type": "markdown",
      "source": [
        "As variáveis mais importantes aqui também serão escolhidas conforme o impacto na pureza dos nós, logo:"
      ],
      "metadata": {
        "id": "4S-CnHViwCM9"
      }
    },
    {
      "cell_type": "code",
      "source": [
        "importanciasxg = xgboost_model.feature_importances_\n",
        "importanciasxg_df = pd.DataFrame(importanciasxg, index=X_train.columns, columns=['Importancia'])\n",
        "importanciasxg_df.sort_values(by='Importancia', ascending=False, inplace=True)\n",
        "print(importanciasxg_df.head(6))"
      ],
      "metadata": {
        "colab": {
          "base_uri": "https://localhost:8080/"
        },
        "id": "Ypu5quJ9wLrG",
        "outputId": "dd7c818e-f49b-4d38-d702-65fd8f88faa7"
      },
      "execution_count": 178,
      "outputs": [
        {
          "output_type": "stream",
          "name": "stdout",
          "text": [
            "        Importancia\n",
            "ck_000     0.833355\n",
            "ba_002     0.059532\n",
            "am_0       0.020650\n",
            "ci_000     0.019508\n",
            "bc_000     0.008183\n",
            "az_000     0.005868\n"
          ]
        }
      ]
    },
    {
      "cell_type": "markdown",
      "source": [
        "# Testando os modelos"
      ],
      "metadata": {
        "id": "gzOMV1qgj2ua"
      }
    },
    {
      "cell_type": "markdown",
      "source": [
        "Primeiro, vamos ler os dados de teste, isto é, os dados atuais, e manter apenas as colunas que foram selecionadas nos dados de treino"
      ],
      "metadata": {
        "id": "u5Bxno0zj6En"
      }
    },
    {
      "cell_type": "code",
      "source": [
        "file_path = '/content/drive/MyDrive/air_system_present_year.csv'\n",
        "dados_atuais = pd.read_csv(file_path, na_values='na')\n",
        "codificador = LabelEncoder()\n",
        "dados_atuais['class'] = codificador.fit_transform(dados_atuais['class'])\n",
        "colunas_selecionadas = ['class'] + list(X_train.columns)\n",
        "dados_atuais = dados_atuais[colunas_selecionadas]\n",
        "dados_atuais.shape\n",
        "verificar = dados_atuais"
      ],
      "metadata": {
        "id": "JKPRojMsj880"
      },
      "execution_count": 159,
      "outputs": []
    },
    {
      "cell_type": "markdown",
      "source": [
        "E vamos completar os dados com KNN novamente"
      ],
      "metadata": {
        "id": "841scEqGkH-8"
      }
    },
    {
      "cell_type": "code",
      "source": [
        "imputer_test = KNNImputer(n_neighbors=10)\n",
        "completos_test = imputer_test.fit_transform(dados_atuais)\n",
        "dados_atuais = pd.DataFrame(completos_test, columns=dados_atuais.columns, index=dados_atuais.index)"
      ],
      "metadata": {
        "id": "YDETg3FWkPVC"
      },
      "execution_count": 160,
      "outputs": []
    },
    {
      "cell_type": "markdown",
      "source": [
        "Agora, basta criar os dados de teste em variáveis próprias"
      ],
      "metadata": {
        "id": "DBR63CWjkRRs"
      }
    },
    {
      "cell_type": "code",
      "source": [
        "X_test = dados_atuais.iloc[:, 1:]\n",
        "y_test = dados_atuais.iloc[:, 0]"
      ],
      "metadata": {
        "id": "JsNpIKJGkVsO"
      },
      "execution_count": 161,
      "outputs": []
    },
    {
      "cell_type": "markdown",
      "source": [
        "\n",
        "## Testando Random Forest"
      ],
      "metadata": {
        "id": "0cTrJcadkW8y"
      }
    },
    {
      "cell_type": "code",
      "source": [
        "from sklearn.metrics import confusion_matrix, classification_report\n",
        "rf_y_pred = rf_model.predict(X_test)\n",
        "rf_conf_matrix = confusion_matrix(y_test, rf_y_pred)\n",
        "rf_conf_matrix"
      ],
      "metadata": {
        "colab": {
          "base_uri": "https://localhost:8080/"
        },
        "id": "2PlI5uzlkZeZ",
        "outputId": "2980c610-14ef-4bea-adf1-93b584357e1a"
      },
      "execution_count": 162,
      "outputs": [
        {
          "output_type": "execute_result",
          "data": {
            "text/plain": [
              "array([[15603,    22],\n",
              "       [  114,   261]])"
            ]
          },
          "metadata": {},
          "execution_count": 162
        }
      ]
    },
    {
      "cell_type": "markdown",
      "source": [
        "## Testando Regressão Logística"
      ],
      "metadata": {
        "id": "hsZHPRp6kboy"
      }
    },
    {
      "cell_type": "code",
      "source": [
        "X_test_lr = sm.add_constant(X_test)\n",
        "lr_y_pred = result.predict(X_test_lr)\n",
        "lr_y_pred = (lr_y_pred >= .5).astype(int)\n",
        "lr_conf_matrix = confusion_matrix(y_test, lr_y_pred)\n",
        "lr_conf_matrix"
      ],
      "metadata": {
        "colab": {
          "base_uri": "https://localhost:8080/"
        },
        "id": "cU3vdObQkfOK",
        "outputId": "053b272b-bf66-4e39-82dd-9edb77e80439"
      },
      "execution_count": 163,
      "outputs": [
        {
          "output_type": "execute_result",
          "data": {
            "text/plain": [
              "array([[15573,    52],\n",
              "       [  119,   256]])"
            ]
          },
          "metadata": {},
          "execution_count": 163
        }
      ]
    },
    {
      "cell_type": "markdown",
      "source": [
        "## Testando XGBoost"
      ],
      "metadata": {
        "id": "EuE2lcYBkeCM"
      }
    },
    {
      "cell_type": "code",
      "source": [
        "xg_y_pred = xgboost_model.predict(X_test)\n",
        "xg_conf_matrix = confusion_matrix(y_test, xg_y_pred)\n",
        "xg_conf_matrix"
      ],
      "metadata": {
        "colab": {
          "base_uri": "https://localhost:8080/"
        },
        "id": "84G8h4KHkkcb",
        "outputId": "50b352cf-8277-492f-c615-edc4f8ee8f74"
      },
      "execution_count": 175,
      "outputs": [
        {
          "output_type": "execute_result",
          "data": {
            "text/plain": [
              "array([[14884,   741],\n",
              "       [   13,   362]])"
            ]
          },
          "metadata": {},
          "execution_count": 175
        }
      ]
    },
    {
      "cell_type": "markdown",
      "source": [
        "## Comparando os modelos\n"
      ],
      "metadata": {
        "id": "FYIj0fm8kojl"
      }
    },
    {
      "cell_type": "markdown",
      "source": [
        "Pela importância de cada métrica, escolhemos como modelo o XGBoost, já que, em comparação com o random forest e regressão logística, ele errou muito menos em aprovar caminhões que tinham defeito, mesmo que ao custo de reprovar mais caminhões em bom estado. Assim, se tivessemos usado o random forest, teriamos um custo de 261\\*25 + 22 * 10 + 114\\*500 = 63745 dólares, usando regressão logística 119\\*500 + 52\\*10 + 256\\*25 = 66420, enquanto que usando XGBoost, teriamos um custo de 362\\*25 + 741\\*10 + 13\\*500 = 22960 dólares, ou seja, uma economia de 40785 dólares com relação ao segundo melhor modelo.\n",
        "\n",
        "Se ao invés de usar modelos nós apenas sortearmos o grupo ao qual cada observação pertence de forma independente e com probabilidade 375/16000 de pertencer ao grupo positivo, e probabilidade 15625/16000 de pertencer ao grupo negativo (ou seja, probabilidades proporcionais aos tamanhos dos grupos), então o valor esperado do custo é:\n",
        "\n",
        "((375/16000)^2\\*25 + (15625/16000)\\*(375/16000)\\*500 + (15625/16000)\\*(375/16000)\\*10)\\*16000 = \\$186987.30\n",
        "\n",
        "Dessa forma, usarmos o modelo de XGBoost ao invés de sortear quais caminhões devem ser inspecionados traz uma economia de \\$164027.3.\n",
        "\n",
        "Por fim, vamos analisar a relação do custo do modelo com a métrica de negócios proposta anteriormente. O custo mínimo seria de 375\\*25 = 9325, então o XGBoost é \\$13635 mais caro do que o necessário. Interessante notar que essa possível economia é bem menor que a diferença entre o modelo de XGBoost e o de Random Forest, mostrando a qualidade do ajuste desse primeiro.\n",
        "\n",
        "\n",
        "Nesse caso, a taxa de caminhões em reparo é de 1103/375 = 2.91, indicando que foram levados para reparo cerca de 3 vezes mais caminhões do que necessário. Além disso, a taxa de falha foi de 362/375 = 0.965, e a eficiência do dinheiro foi de 9325/22960 = 0.4"
      ],
      "metadata": {
        "id": "Fsmh37QlktmZ"
      }
    },
    {
      "cell_type": "markdown",
      "source": [
        "# Visualizando a importância das variáveis\n",
        "\n",
        "O modelo XGBoost selecionou como mais importante a variável ck_000, assim:"
      ],
      "metadata": {
        "id": "gxBHDn-ikjmR"
      }
    },
    {
      "cell_type": "code",
      "source": [
        "from matplotlib.colors import ListedColormap\n",
        "cores = np.array(['red', 'blue'])\n",
        "colormap = ListedColormap(cores)\n",
        "\n",
        "fig, axs = plt.subplots(1, 2, figsize=(12, 6))\n",
        "\n",
        "scatter1 = axs[0].scatter(x=range(0, X_test.shape[0]), y=X_test['ck_000'], c=y_test, cmap=colormap)\n",
        "axs[0].set_xlabel('Index')\n",
        "axs[0].set_ylabel('ck_000')\n",
        "axs[0].set_title('Verdadeiros')\n",
        "\n",
        "scatter2 = axs[1].scatter(x=range(0, X_test.shape[0]), y=X_test['ck_000'], c=xg_y_pred, cmap=colormap)\n",
        "axs[1].set_xlabel('Index')\n",
        "axs[1].set_ylabel('ck_000')\n",
        "axs[1].set_title('Preditos')\n",
        "\n",
        "\n",
        "# Ajustar o layout para melhor visualização\n",
        "plt.tight_layout()\n",
        "\n",
        "# Mostrar os gráficos\n",
        "plt.show()"
      ],
      "metadata": {
        "colab": {
          "base_uri": "https://localhost:8080/",
          "height": 607
        },
        "id": "aIB7-aV7gv1i",
        "outputId": "023a74f7-6a83-482b-c46c-688c20bec320"
      },
      "execution_count": 179,
      "outputs": [
        {
          "output_type": "display_data",
          "data": {
            "text/plain": [
              "<Figure size 1200x600 with 2 Axes>"
            ],
            "image/png": "[encoded data removed]"
          },
          "metadata": {}
        }
      ]
    },
    {
      "cell_type": "markdown",
      "source": [
        "Podemos notar que o modelo XGBoost colocou os valores \"altos\" de 'ck_000' como pertencentes ao grupo de azul (positivo), e os valores \"baixos\" como pertencentes ao grupo vermelho (negativo). Isso pode ser verificado na tabela abaixo. Interessante notar também que muitos pontos que eram para ser vermelhos foram colocados no grupo azul, mas o inverso não é fácil de ver acontecer, isso é esperado devido à importância do racall na avaliação do modelo."
      ],
      "metadata": {
        "id": "7_sdo06PwuNc"
      }
    },
    {
      "cell_type": "code",
      "source": [
        "new_df = (\n",
        "    dados_atuais.groupby('class')['ck_000'].agg(['mean', 'std'])\n",
        "    .set_axis(['media', 'desvio padrao'], axis=1)\n",
        "    .reset_index()\n",
        ")\n",
        "new_df"
      ],
      "metadata": {
        "colab": {
          "base_uri": "https://localhost:8080/",
          "height": 125
        },
        "id": "3vGcTUhuxJu9",
        "outputId": "b701c97b-3653-4ce3-a713-ad29f59b877c"
      },
      "execution_count": 180,
      "outputs": [
        {
          "output_type": "execute_result",
          "data": {
            "text/plain": [
              "   class         media  desvio padrao\n",
              "0    0.0  5.722087e+05   1.676038e+06\n",
              "1    1.0  8.560394e+06   6.935785e+06"
            ],
            "text/html": [
              "\n",
              "  <div id=\"df-ee38dfd1-c6ba-4d84-a03d-dd6f920a2827\" class=\"colab-df-container\">\n",
              "    <div>\n",
              "<style scoped>\n",
              "    .dataframe tbody tr th:only-of-type {\n",
              "        vertical-align: middle;\n",
              "    }\n",
              "\n",
              "    .dataframe tbody tr th {\n",
              "        vertical-align: top;\n",
              "    }\n",
              "\n",
              "    .dataframe thead th {\n",
              "        text-align: right;\n",
              "    }\n",
              "</style>\n",
              "<table border=\"1\" class=\"dataframe\">\n",
              "  <thead>\n",
              "    <tr style=\"text-align: right;\">\n",
              "      <th></th>\n",
              "      <th>class</th>\n",
              "      <th>media</th>\n",
              "      <th>desvio padrao</th>\n",
              "    </tr>\n",
              "  </thead>\n",
              "  <tbody>\n",
              "    <tr>\n",
              "      <th>0</th>\n",
              "      <td>0.0</td>\n",
              "      <td>5.722087e+05</td>\n",
              "      <td>1.676038e+06</td>\n",
              "    </tr>\n",
              "    <tr>\n",
              "      <th>1</th>\n",
              "      <td>1.0</td>\n",
              "      <td>8.560394e+06</td>\n",
              "      <td>6.935785e+06</td>\n",
              "    </tr>\n",
              "  </tbody>\n",
              "</table>\n",
              "</div>\n",
              "    <div class=\"colab-df-buttons\">\n",
              "\n",
              "  <div class=\"colab-df-container\">\n",
              "    <button class=\"colab-df-convert\" onclick=\"convertToInteractive('df-ee38dfd1-c6ba-4d84-a03d-dd6f920a2827')\"\n",
              "            title=\"Convert this dataframe to an interactive table.\"\n",
              "            style=\"display:none;\">\n",
              "\n",
              "  <svg xmlns=\"http://www.w3.org/2000/svg\" height=\"24px\" viewBox=\"0 -960 960 960\">\n",
              "    <path d=\"M120-120v-720h720v720H120Zm60-500h600v-160H180v160Zm220 220h160v-160H400v160Zm0 220h160v-160H400v160ZM180-400h160v-160H180v160Zm440 0h160v-160H620v160ZM180-180h160v-160H180v160Zm440 0h160v-160H620v160Z\"/>\n",
              "  </svg>\n",
              "    </button>\n",
              "\n",
              "  <style>\n",
              "    .colab-df-container {\n",
              "      display:flex;\n",
              "      gap: 12px;\n",
              "    }\n",
              "\n",
              "    .colab-df-convert {\n",
              "      background-color: #E8F0FE;\n",
              "      border: none;\n",
              "      border-radius: 50%;\n",
              "      cursor: pointer;\n",
              "      display: none;\n",
              "      fill: #1967D2;\n",
              "      height: 32px;\n",
              "      padding: 0 0 0 0;\n",
              "      width: 32px;\n",
              "    }\n",
              "\n",
              "    .colab-df-convert:hover {\n",
              "      background-color: #E2EBFA;\n",
              "      box-shadow: 0px 1px 2px rgba(60, 64, 67, 0.3), 0px 1px 3px 1px rgba(60, 64, 67, 0.15);\n",
              "      fill: #174EA6;\n",
              "    }\n",
              "\n",
              "    .colab-df-buttons div {\n",
              "      margin-bottom: 4px;\n",
              "    }\n",
              "\n",
              "    [theme=dark] .colab-df-convert {\n",
              "      background-color: #3B4455;\n",
              "      fill: #D2E3FC;\n",
              "    }\n",
              "\n",
              "    [theme=dark] .colab-df-convert:hover {\n",
              "      background-color: #434B5C;\n",
              "      box-shadow: 0px 1px 3px 1px rgba(0, 0, 0, 0.15);\n",
              "      filter: drop-shadow(0px 1px 2px rgba(0, 0, 0, 0.3));\n",
              "      fill: #FFFFFF;\n",
              "    }\n",
              "  </style>\n",
              "\n",
              "    <script>\n",
              "      const buttonEl =\n",
              "        document.querySelector('#df-ee38dfd1-c6ba-4d84-a03d-dd6f920a2827 button.colab-df-convert');\n",
              "      buttonEl.style.display =\n",
              "        google.colab.kernel.accessAllowed ? 'block' : 'none';\n",
              "\n",
              "      async function convertToInteractive(key) {\n",
              "        const element = document.querySelector('#df-ee38dfd1-c6ba-4d84-a03d-dd6f920a2827');\n",
              "        const dataTable =\n",
              "          await google.colab.kernel.invokeFunction('convertToInteractive',\n",
              "                                                    [key], {});\n",
              "        if (!dataTable) return;\n",
              "\n",
              "        const docLinkHtml = 'Like what you see? Visit the ' +\n",
              "          '<a target=\"_blank\" href=https://colab.research.google.com/notebooks/data_table.ipynb>data table notebook</a>'\n",
              "          + ' to learn more about interactive tables.';\n",
              "        element.innerHTML = '';\n",
              "        dataTable['output_type'] = 'display_data';\n",
              "        await google.colab.output.renderOutput(dataTable, element);\n",
              "        const docLink = document.createElement('div');\n",
              "        docLink.innerHTML = docLinkHtml;\n",
              "        element.appendChild(docLink);\n",
              "      }\n",
              "    </script>\n",
              "  </div>\n",
              "\n",
              "\n",
              "<div id=\"df-28c1bacc-da56-4c1b-8e03-bb75a6e9d78c\">\n",
              "  <button class=\"colab-df-quickchart\" onclick=\"quickchart('df-28c1bacc-da56-4c1b-8e03-bb75a6e9d78c')\"\n",
              "            title=\"Suggest charts\"\n",
              "            style=\"display:none;\">\n",
              "\n",
              "<svg xmlns=\"http://www.w3.org/2000/svg\" height=\"24px\"viewBox=\"0 0 24 24\"\n",
              "     width=\"24px\">\n",
              "    <g>\n",
              "        <path d=\"M19 3H5c-1.1 0-2 .9-2 2v14c0 1.1.9 2 2 2h14c1.1 0 2-.9 2-2V5c0-1.1-.9-2-2-2zM9 17H7v-7h2v7zm4 0h-2V7h2v10zm4 0h-2v-4h2v4z\"/>\n",
              "    </g>\n",
              "</svg>\n",
              "  </button>\n",
              "\n",
              "<style>\n",
              "  .colab-df-quickchart {\n",
              "      --bg-color: #E8F0FE;\n",
              "      --fill-color: #1967D2;\n",
              "      --hover-bg-color: #E2EBFA;\n",
              "      --hover-fill-color: #174EA6;\n",
              "      --disabled-fill-color: #AAA;\n",
              "      --disabled-bg-color: #DDD;\n",
              "  }\n",
              "\n",
              "  [theme=dark] .colab-df-quickchart {\n",
              "      --bg-color: #3B4455;\n",
              "      --fill-color: #D2E3FC;\n",
              "      --hover-bg-color: #434B5C;\n",
              "      --hover-fill-color: #FFFFFF;\n",
              "      --disabled-bg-color: #3B4455;\n",
              "      --disabled-fill-color: #666;\n",
              "  }\n",
              "\n",
              "  .colab-df-quickchart {\n",
              "    background-color: var(--bg-color);\n",
              "    border: none;\n",
              "    border-radius: 50%;\n",
              "    cursor: pointer;\n",
              "    display: none;\n",
              "    fill: var(--fill-color);\n",
              "    height: 32px;\n",
              "    padding: 0;\n",
              "    width: 32px;\n",
              "  }\n",
              "\n",
              "  .colab-df-quickchart:hover {\n",
              "    background-color: var(--hover-bg-color);\n",
              "    box-shadow: 0 1px 2px rgba(60, 64, 67, 0.3), 0 1px 3px 1px rgba(60, 64, 67, 0.15);\n",
              "    fill: var(--button-hover-fill-color);\n",
              "  }\n",
              "\n",
              "  .colab-df-quickchart-complete:disabled,\n",
              "  .colab-df-quickchart-complete:disabled:hover {\n",
              "    background-color: var(--disabled-bg-color);\n",
              "    fill: var(--disabled-fill-color);\n",
              "    box-shadow: none;\n",
              "  }\n",
              "\n",
              "  .colab-df-spinner {\n",
              "    border: 2px solid var(--fill-color);\n",
              "    border-color: transparent;\n",
              "    border-bottom-color: var(--fill-color);\n",
              "    animation:\n",
              "      spin 1s steps(1) infinite;\n",
              "  }\n",
              "\n",
              "  @keyframes spin {\n",
              "    0% {\n",
              "      border-color: transparent;\n",
              "      border-bottom-color: var(--fill-color);\n",
              "      border-left-color: var(--fill-color);\n",
              "    }\n",
              "    20% {\n",
              "      border-color: transparent;\n",
              "      border-left-color: var(--fill-color);\n",
              "      border-top-color: var(--fill-color);\n",
              "    }\n",
              "    30% {\n",
              "      border-color: transparent;\n",
              "      border-left-color: var(--fill-color);\n",
              "      border-top-color: var(--fill-color);\n",
              "      border-right-color: var(--fill-color);\n",
              "    }\n",
              "    40% {\n",
              "      border-color: transparent;\n",
              "      border-right-color: var(--fill-color);\n",
              "      border-top-color: var(--fill-color);\n",
              "    }\n",
              "    60% {\n",
              "      border-color: transparent;\n",
              "      border-right-color: var(--fill-color);\n",
              "    }\n",
              "    80% {\n",
              "      border-color: transparent;\n",
              "      border-right-color: var(--fill-color);\n",
              "      border-bottom-color: var(--fill-color);\n",
              "    }\n",
              "    90% {\n",
              "      border-color: transparent;\n",
              "      border-bottom-color: var(--fill-color);\n",
              "    }\n",
              "  }\n",
              "</style>\n",
              "\n",
              "  <script>\n",
              "    async function quickchart(key) {\n",
              "      const quickchartButtonEl =\n",
              "        document.querySelector('#' + key + ' button');\n",
              "      quickchartButtonEl.disabled = true;  // To prevent multiple clicks.\n",
              "      quickchartButtonEl.classList.add('colab-df-spinner');\n",
              "      try {\n",
              "        const charts = await google.colab.kernel.invokeFunction(\n",
              "            'suggestCharts', [key], {});\n",
              "      } catch (error) {\n",
              "        console.error('Error during call to suggestCharts:', error);\n",
              "      }\n",
              "      quickchartButtonEl.classList.remove('colab-df-spinner');\n",
              "      quickchartButtonEl.classList.add('colab-df-quickchart-complete');\n",
              "    }\n",
              "    (() => {\n",
              "      let quickchartButtonEl =\n",
              "        document.querySelector('#df-28c1bacc-da56-4c1b-8e03-bb75a6e9d78c button');\n",
              "      quickchartButtonEl.style.display =\n",
              "        google.colab.kernel.accessAllowed ? 'block' : 'none';\n",
              "    })();\n",
              "  </script>\n",
              "</div>\n",
              "\n",
              "  <div id=\"id_a4c82980-f03f-429b-a4c0-cfca9b53b5f4\">\n",
              "    <style>\n",
              "      .colab-df-generate {\n",
              "        background-color: #E8F0FE;\n",
              "        border: none;\n",
              "        border-radius: 50%;\n",
              "        cursor: pointer;\n",
              "        display: none;\n",
              "        fill: #1967D2;\n",
              "        height: 32px;\n",
              "        padding: 0 0 0 0;\n",
              "        width: 32px;\n",
              "      }\n",
              "\n",
              "      .colab-df-generate:hover {\n",
              "        background-color: #E2EBFA;\n",
              "        box-shadow: 0px 1px 2px rgba(60, 64, 67, 0.3), 0px 1px 3px 1px rgba(60, 64, 67, 0.15);\n",
              "        fill: #174EA6;\n",
              "      }\n",
              "\n",
              "      [theme=dark] .colab-df-generate {\n",
              "        background-color: #3B4455;\n",
              "        fill: #D2E3FC;\n",
              "      }\n",
              "\n",
              "      [theme=dark] .colab-df-generate:hover {\n",
              "        background-color: #434B5C;\n",
              "        box-shadow: 0px 1px 3px 1px rgba(0, 0, 0, 0.15);\n",
              "        filter: drop-shadow(0px 1px 2px rgba(0, 0, 0, 0.3));\n",
              "        fill: #FFFFFF;\n",
              "      }\n",
              "    </style>\n",
              "    <button class=\"colab-df-generate\" onclick=\"generateWithVariable('new_df')\"\n",
              "            title=\"Generate code using this dataframe.\"\n",
              "            style=\"display:none;\">\n",
              "\n",
              "  <svg xmlns=\"http://www.w3.org/2000/svg\" height=\"24px\"viewBox=\"0 0 24 24\"\n",
              "       width=\"24px\">\n",
              "    <path d=\"M7,19H8.4L18.45,9,17,7.55,7,17.6ZM5,21V16.75L18.45,3.32a2,2,0,0,1,2.83,0l1.4,1.43a1.91,1.91,0,0,1,.58,1.4,1.91,1.91,0,0,1-.58,1.4L9.25,21ZM18.45,9,17,7.55Zm-12,3A5.31,5.31,0,0,0,4.9,8.1,5.31,5.31,0,0,0,1,6.5,5.31,5.31,0,0,0,4.9,4.9,5.31,5.31,0,0,0,6.5,1,5.31,5.31,0,0,0,8.1,4.9,5.31,5.31,0,0,0,12,6.5,5.46,5.46,0,0,0,6.5,12Z\"/>\n",
              "  </svg>\n",
              "    </button>\n",
              "    <script>\n",
              "      (() => {\n",
              "      const buttonEl =\n",
              "        document.querySelector('#id_a4c82980-f03f-429b-a4c0-cfca9b53b5f4 button.colab-df-generate');\n",
              "      buttonEl.style.display =\n",
              "        google.colab.kernel.accessAllowed ? 'block' : 'none';\n",
              "\n",
              "      buttonEl.onclick = () => {\n",
              "        google.colab.notebook.generateWithVariable('new_df');\n",
              "      }\n",
              "      })();\n",
              "    </script>\n",
              "  </div>\n",
              "\n",
              "    </div>\n",
              "  </div>\n"
            ],
            "application/vnd.google.colaboratory.intrinsic+json": {
              "type": "dataframe",
              "variable_name": "new_df",
              "summary": "{\n  \"name\": \"new_df\",\n  \"rows\": 2,\n  \"fields\": [\n    {\n      \"column\": \"class\",\n      \"properties\": {\n        \"dtype\": \"number\",\n        \"std\": 0.7071067811865476,\n        \"min\": 0.0,\n        \"max\": 1.0,\n        \"num_unique_values\": 2,\n        \"samples\": [\n          1.0,\n          0.0\n        ],\n        \"semantic_type\": \"\",\n        \"description\": \"\"\n      }\n    },\n    {\n      \"column\": \"media\",\n      \"properties\": {\n        \"dtype\": \"number\",\n        \"std\": 5648499.851836683,\n        \"min\": 572208.7287741441,\n        \"max\": 8560393.826304,\n        \"num_unique_values\": 2,\n        \"samples\": [\n          8560393.826304,\n          572208.7287741441\n        ],\n        \"semantic_type\": \"\",\n        \"description\": \"\"\n      }\n    },\n    {\n      \"column\": \"desvio padrao\",\n      \"properties\": {\n        \"dtype\": \"number\",\n        \"std\": 3719202.648212502,\n        \"min\": 1676038.4640035338,\n        \"max\": 6935785.290319585,\n        \"num_unique_values\": 2,\n        \"samples\": [\n          6935785.290319585,\n          1676038.4640035338\n        ],\n        \"semantic_type\": \"\",\n        \"description\": \"\"\n      }\n    }\n  ]\n}"
            }
          },
          "metadata": {},
          "execution_count": 180
        }
      ]
    },
    {
      "cell_type": "markdown",
      "source": [
        "Podemos notar que ambos em termos de média e desvio padrão os grupos são de fato bem diferentes"
      ],
      "metadata": {
        "id": "1DGnVmI2xNbc"
      }
    },
    {
      "cell_type": "markdown",
      "source": [
        "# Considerações"
      ],
      "metadata": {
        "id": "md0MTQgvz582"
      }
    },
    {
      "cell_type": "markdown",
      "source": [
        "Antes de fazer o deploy desse modelo, é importante verificar algumas coisas:\n",
        "\n",
        "\n",
        "1.   De que forma foram coletados os dados?\n",
        "2.   Os dados continuaram sendo coletados dessa mesma maneira no futuro?\n",
        "3.   Temos como melhorar ainda mais a escolha dos hiperparâmetros?\n",
        "4.   Temos multicolinearidade nos dados afetando a regressão logística, por exemplo?\n",
        "5.   Podemos selecionar variáveis de outras maneiras? Nesse caso, removi apenas as com muitas observações faltantes ou pouca variabilidade, mas poderiamos selecionar também por significância, por exemplo? Ou existem variáveis que mesmo não significarivas devem ser mantidas no modelo?\n",
        "6.   A literatura indica algum modelo geralmente melhor nesses casos? Se sim, devemos testa-lo tambem\n",
        "\n"
      ],
      "metadata": {
        "id": "PFgeKQVlz9Yd"
      }
    }
  ]
}